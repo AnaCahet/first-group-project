{
 "cells": [
  {
   "cell_type": "code",
   "execution_count": 1,
   "id": "6829e003-29e0-4cbf-9e38-7d830cbee953",
   "metadata": {},
   "outputs": [],
   "source": [
    "import pandas as pd\n",
    "from datetime import datetime as dt"
   ]
  },
  {
   "cell_type": "code",
   "execution_count": 2,
   "id": "21d8130b-55cf-4799-b6a1-63cfad263615",
   "metadata": {},
   "outputs": [],
   "source": [
    "us_wildfires = pd.read_csv('us_wildfires_filled.csv')"
   ]
  },
  {
   "cell_type": "code",
   "execution_count": 3,
   "id": "73de00ab-484b-4a1a-9aed-dd84c165bdd8",
   "metadata": {},
   "outputs": [],
   "source": [
    "us_wildfires['DISCOVERY_DATE'] = pd.to_datetime(us_wildfires[\"DISCOVERY_DATE\"], format = \"%Y-%m-%d\")\n",
    "us_wildfires['CONT_DATE'] = pd.to_datetime(us_wildfires[\"CONT_DATE\"], format = \"%Y-%m-%d\")"
   ]
  },
  {
   "cell_type": "code",
   "execution_count": 4,
   "id": "cab8afd7-7ef3-4809-b601-0a53361fd7b2",
   "metadata": {},
   "outputs": [
    {
     "data": {
      "text/plain": [
       "OBJECTID                     0\n",
       "NWCG_REPORTING_AGENCY        0\n",
       "NWCG_REPORTING_UNIT_ID       0\n",
       "FIRE_NAME                    0\n",
       "FIRE_YEAR                    0\n",
       "DISCOVERY_DATE               0\n",
       "NWCG_CAUSE_CLASSIFICATION    0\n",
       "NWCG_GENERAL_CAUSE           0\n",
       "NWCG_CAUSE_AGE_CATEGORY      0\n",
       "CONT_DATE                    0\n",
       "FIRE_SIZE                    0\n",
       "FIRE_SIZE_CLASS              0\n",
       "LATITUDE                     0\n",
       "LONGITUDE                    0\n",
       "OWNER_DESCR                  0\n",
       "DURATION                     0\n",
       "COUNTY                       0\n",
       "STATE                        0\n",
       "PRECIPITATION                0\n",
       "TEMPERATURE                  0\n",
       "WIND_SPEED                   0\n",
       "ELEVATION                    0\n",
       "dtype: int64"
      ]
     },
     "execution_count": 4,
     "metadata": {},
     "output_type": "execute_result"
    }
   ],
   "source": [
    "us_wildfires.isna().sum()"
   ]
  },
  {
   "cell_type": "code",
   "execution_count": 5,
   "id": "5df2cabf-27e2-4c31-8511-9b0b90671ab8",
   "metadata": {},
   "outputs": [],
   "source": [
    "to_drop = ['OBJECTID', 'LATITUDE', 'LONGITUDE', 'FIRE_NAME']\n",
    "model_data = us_wildfires.drop(to_drop, axis=1)"
   ]
  },
  {
   "cell_type": "code",
   "execution_count": 6,
   "id": "491beb18-abe6-4bd0-b084-69eccb7f74b9",
   "metadata": {},
   "outputs": [],
   "source": [
    "model_data['DAY_OF_WEEK'] = model_data['DISCOVERY_DATE'].dt.dayofweek"
   ]
  },
  {
   "cell_type": "code",
   "execution_count": 7,
   "id": "8be25a32-9a88-4e5f-9b3f-b7425265efe5",
   "metadata": {},
   "outputs": [],
   "source": [
    "model_data['DAY_OF_YEAR'] = model_data['DISCOVERY_DATE'].dt.dayofyear"
   ]
  },
  {
   "cell_type": "code",
   "execution_count": 8,
   "id": "3ee768ad-0003-49d6-b24c-8351941e2407",
   "metadata": {},
   "outputs": [],
   "source": [
    "date_drop = ['DISCOVERY_DATE', 'CONT_DATE']\n",
    "model_data = model_data.drop(model_data[date_drop], axis=1)"
   ]
  },
  {
   "cell_type": "code",
   "execution_count": 9,
   "id": "b2132cb9-f0a5-40a9-befd-2b308b9af5a9",
   "metadata": {},
   "outputs": [],
   "source": [
    "more_drops = ['NWCG_REPORTING_UNIT_ID', 'FIRE_SIZE_CLASS',\n",
    "             'NWCG_CAUSE_CLASSIFICATION', 'NWCG_CAUSE_AGE_CATEGORY']\n",
    "model_data = model_data.drop(more_drops, axis=1)"
   ]
  },
  {
   "cell_type": "code",
   "execution_count": 10,
   "id": "b20aca32-9660-4661-9a33-bf602f3a0535",
   "metadata": {},
   "outputs": [],
   "source": [
    "model_data['COUNTY_STATE'] = model_data['COUNTY'] + str(\" \") + model_data['STATE']"
   ]
  },
  {
   "cell_type": "code",
   "execution_count": 11,
   "id": "34d4ce41-2c01-4491-a5bc-4f28166314cb",
   "metadata": {},
   "outputs": [
    {
     "data": {
      "text/html": [
       "<div>\n",
       "<style scoped>\n",
       "    .dataframe tbody tr th:only-of-type {\n",
       "        vertical-align: middle;\n",
       "    }\n",
       "\n",
       "    .dataframe tbody tr th {\n",
       "        vertical-align: top;\n",
       "    }\n",
       "\n",
       "    .dataframe thead th {\n",
       "        text-align: right;\n",
       "    }\n",
       "</style>\n",
       "<table border=\"1\" class=\"dataframe\">\n",
       "  <thead>\n",
       "    <tr style=\"text-align: right;\">\n",
       "      <th></th>\n",
       "      <th>COUNTY_STATE</th>\n",
       "      <th>COUNTY</th>\n",
       "      <th>STATE</th>\n",
       "    </tr>\n",
       "  </thead>\n",
       "  <tbody>\n",
       "    <tr>\n",
       "      <th>0</th>\n",
       "      <td>Plumas County CA</td>\n",
       "      <td>Plumas County</td>\n",
       "      <td>CA</td>\n",
       "    </tr>\n",
       "    <tr>\n",
       "      <th>1</th>\n",
       "      <td>El Dorado County CA</td>\n",
       "      <td>El Dorado County</td>\n",
       "      <td>CA</td>\n",
       "    </tr>\n",
       "    <tr>\n",
       "      <th>2</th>\n",
       "      <td>Placer County CA</td>\n",
       "      <td>Placer County</td>\n",
       "      <td>CA</td>\n",
       "    </tr>\n",
       "    <tr>\n",
       "      <th>3</th>\n",
       "      <td>Alpine County CA</td>\n",
       "      <td>Alpine County</td>\n",
       "      <td>CA</td>\n",
       "    </tr>\n",
       "    <tr>\n",
       "      <th>4</th>\n",
       "      <td>Alpine County CA</td>\n",
       "      <td>Alpine County</td>\n",
       "      <td>CA</td>\n",
       "    </tr>\n",
       "  </tbody>\n",
       "</table>\n",
       "</div>"
      ],
      "text/plain": [
       "          COUNTY_STATE            COUNTY STATE\n",
       "0     Plumas County CA     Plumas County    CA\n",
       "1  El Dorado County CA  El Dorado County    CA\n",
       "2     Placer County CA     Placer County    CA\n",
       "3     Alpine County CA     Alpine County    CA\n",
       "4     Alpine County CA     Alpine County    CA"
      ]
     },
     "execution_count": 11,
     "metadata": {},
     "output_type": "execute_result"
    }
   ],
   "source": [
    "model_data[['COUNTY_STATE', 'COUNTY', 'STATE']].head()"
   ]
  },
  {
   "cell_type": "code",
   "execution_count": 12,
   "id": "3a8984e2-18a8-4b4d-8e56-43b97c0294d7",
   "metadata": {},
   "outputs": [],
   "source": [
    "model_data = model_data.drop('COUNTY', axis=1)"
   ]
  },
  {
   "cell_type": "code",
   "execution_count": 13,
   "id": "448c347e-6c8f-4bab-ab21-e3911a1a7588",
   "metadata": {},
   "outputs": [
    {
     "data": {
      "text/plain": [
       "['NWCG_REPORTING_AGENCY',\n",
       " 'FIRE_YEAR',\n",
       " 'NWCG_GENERAL_CAUSE',\n",
       " 'FIRE_SIZE',\n",
       " 'OWNER_DESCR',\n",
       " 'DURATION',\n",
       " 'STATE',\n",
       " 'PRECIPITATION',\n",
       " 'TEMPERATURE',\n",
       " 'WIND_SPEED',\n",
       " 'ELEVATION',\n",
       " 'DAY_OF_WEEK',\n",
       " 'DAY_OF_YEAR',\n",
       " 'COUNTY_STATE']"
      ]
     },
     "execution_count": 13,
     "metadata": {},
     "output_type": "execute_result"
    }
   ],
   "source": [
    "model_data.columns.to_list()"
   ]
  },
  {
   "cell_type": "code",
   "execution_count": 14,
   "id": "c56e5863-0c03-460a-ac66-5b9be0da9334",
   "metadata": {},
   "outputs": [],
   "source": [
    "model_data['COUNTY_STATE'] = model_data['COUNTY_STATE'].astype('category')\n",
    "model_data['COUNTY_STATE'] = model_data['COUNTY_STATE'].cat.codes.astype(int)"
   ]
  },
  {
   "cell_type": "code",
   "execution_count": 15,
   "id": "9e7a7932-85a3-487c-8884-d45f5f3231a0",
   "metadata": {},
   "outputs": [],
   "source": [
    "model_data['STATE'] = model_data['STATE'].astype('category')\n",
    "model_data['STATE'] = model_data['STATE'].cat.codes.astype(int)"
   ]
  },
  {
   "cell_type": "code",
   "execution_count": 16,
   "id": "b4c4f38f-7e20-4dc7-a68e-391faaea190f",
   "metadata": {},
   "outputs": [],
   "source": [
    "model_data['NWCG_REPORTING_AGENCY'] = model_data['NWCG_REPORTING_AGENCY'].astype('category')\n",
    "model_data['NWCG_REPORTING_AGENCY'] = model_data['NWCG_REPORTING_AGENCY'].cat.codes.astype(int)"
   ]
  },
  {
   "cell_type": "code",
   "execution_count": 17,
   "id": "9a585805-3906-4794-8bd3-18ada893330d",
   "metadata": {},
   "outputs": [],
   "source": [
    "model_data['OWNER_DESCR'] = model_data['OWNER_DESCR'].astype('category')\n",
    "model_data['OWNER_DESCR'] = model_data['OWNER_DESCR'].cat.codes.astype(int)"
   ]
  },
  {
   "cell_type": "markdown",
   "id": "ce302d99-3f68-4e5e-bcb1-75302e68c5d5",
   "metadata": {},
   "source": [
    "# Running a random forest again\n",
    "\n",
    "Using all data as usual, combining 'other' with 'undetermined', have dropped cause_age and cause_category"
   ]
  },
  {
   "cell_type": "code",
   "execution_count": 18,
   "id": "1975eea5-bdfd-4185-af93-472274d77920",
   "metadata": {},
   "outputs": [],
   "source": [
    "from sklearn import tree\n",
    "\n",
    "from sklearn.model_selection import train_test_split\n",
    "from sklearn.tree import DecisionTreeClassifier\n",
    "from sklearn.metrics import accuracy_score\n",
    "from sklearn.ensemble import RandomForestClassifier\n",
    "from sklearn.metrics import classification_report\n",
    "from sklearn.preprocessing import StandardScaler\n",
    "\n",
    "from sklearn.metrics import confusion_matrix\n",
    "import matplotlib.pyplot as plt\n",
    "import seaborn as sns\n",
    "from sklearn.metrics import f1_score\n",
    "#from imblearn.under_sampling import RandomUnderSampler\n",
    "import time"
   ]
  },
  {
   "cell_type": "code",
   "execution_count": 19,
   "id": "ada42f00-b501-4fc1-99b1-d0b5e2ec2ad0",
   "metadata": {},
   "outputs": [],
   "source": [
    "model_data['NWCG_GENERAL_CAUSE'] = model_data['NWCG_GENERAL_CAUSE'].replace({'Other causes': 'Undetermined',\n",
    "                                                                             'Undetermined': 'Undetermined'})"
   ]
  },
  {
   "cell_type": "code",
   "execution_count": 27,
   "id": "668f2318-d39d-415d-8cfb-130a6375fd3b",
   "metadata": {},
   "outputs": [],
   "source": [
    "X1 = model_data.drop(\"NWCG_GENERAL_CAUSE\", axis=1)\n",
    "y1 = model_data[\"NWCG_GENERAL_CAUSE\"]\n",
    "\n",
    "\n",
    "X1_train, X1_test, y1_train, y1_test = train_test_split(X1,y1, test_size=0.2, shuffle=True, random_state=2)"
   ]
  },
  {
   "cell_type": "code",
   "execution_count": 28,
   "id": "b3bc7e17-3578-42bb-9019-c4b2d95e6f94",
   "metadata": {},
   "outputs": [
    {
     "name": "stdout",
     "output_type": "stream",
     "text": [
      "Decision Tree Accuracy Score: 0.4742962947552375\n"
     ]
    }
   ],
   "source": [
    "dt1 = DecisionTreeClassifier()\n",
    "dt1.fit(X1_train,y1_train)\n",
    "dt1_predictions = dt1.predict(X1_test)\n",
    "dt1_acc = accuracy_score(y1_test, dt1_predictions)\n",
    "print(f\"Decision Tree Accuracy Score: {dt1_acc}\")"
   ]
  },
  {
   "cell_type": "code",
   "execution_count": 29,
   "id": "f21348ad-bdf4-4ea0-b585-6b46d65307e8",
   "metadata": {},
   "outputs": [
    {
     "name": "stdout",
     "output_type": "stream",
     "text": [
      "Random Forest Accuracy Score: 0.5784752830126996\n",
      "--- 998.36 seconds ---\n"
     ]
    }
   ],
   "source": [
    "start_time = time.time()\n",
    "\n",
    "rf1 = RandomForestClassifier()\n",
    "rf1.fit(X1_train, y1_train)\n",
    "rf1_predictions = rf1.predict(X1_test)\n",
    "rf1_acc = accuracy_score(y1_test, rf1_predictions)\n",
    "print(f\"Random Forest Accuracy Score: {rf1_acc}\")\n",
    "\n",
    "print(\"--- %s seconds ---\" % round(time.time() - start_time, 2))"
   ]
  },
  {
   "cell_type": "code",
   "execution_count": 30,
   "id": "994b494a-5bbf-45fb-9bc7-db5b7366f525",
   "metadata": {},
   "outputs": [],
   "source": [
    "report = classification_report(y1_test, rf1_predictions, output_dict=True)\n",
    "report_df = pd.DataFrame(report).transpose()"
   ]
  },
  {
   "cell_type": "code",
   "execution_count": 31,
   "id": "f6cfb76e-146c-429a-9db1-ffac8f73d954",
   "metadata": {},
   "outputs": [
    {
     "data": {
      "text/html": [
       "<div>\n",
       "<style scoped>\n",
       "    .dataframe tbody tr th:only-of-type {\n",
       "        vertical-align: middle;\n",
       "    }\n",
       "\n",
       "    .dataframe tbody tr th {\n",
       "        vertical-align: top;\n",
       "    }\n",
       "\n",
       "    .dataframe thead th {\n",
       "        text-align: right;\n",
       "    }\n",
       "</style>\n",
       "<table border=\"1\" class=\"dataframe\">\n",
       "  <thead>\n",
       "    <tr style=\"text-align: right;\">\n",
       "      <th></th>\n",
       "      <th>precision</th>\n",
       "      <th>recall</th>\n",
       "      <th>f1-score</th>\n",
       "      <th>support</th>\n",
       "    </tr>\n",
       "  </thead>\n",
       "  <tbody>\n",
       "    <tr>\n",
       "      <th>Arson</th>\n",
       "      <td>0.537909</td>\n",
       "      <td>0.467349</td>\n",
       "      <td>0.500153</td>\n",
       "      <td>43751.000000</td>\n",
       "    </tr>\n",
       "    <tr>\n",
       "      <th>Debris and open burning</th>\n",
       "      <td>0.539827</td>\n",
       "      <td>0.706374</td>\n",
       "      <td>0.611972</td>\n",
       "      <td>81638.000000</td>\n",
       "    </tr>\n",
       "    <tr>\n",
       "      <th>Equipment and vehicle use</th>\n",
       "      <td>0.413102</td>\n",
       "      <td>0.244886</td>\n",
       "      <td>0.307491</td>\n",
       "      <td>28352.000000</td>\n",
       "    </tr>\n",
       "    <tr>\n",
       "      <th>Firearms and explosives use</th>\n",
       "      <td>0.795181</td>\n",
       "      <td>0.390533</td>\n",
       "      <td>0.523810</td>\n",
       "      <td>507.000000</td>\n",
       "    </tr>\n",
       "    <tr>\n",
       "      <th>Fireworks</th>\n",
       "      <td>0.592817</td>\n",
       "      <td>0.386544</td>\n",
       "      <td>0.467958</td>\n",
       "      <td>3032.000000</td>\n",
       "    </tr>\n",
       "    <tr>\n",
       "      <th>Misuse of fire by a minor</th>\n",
       "      <td>0.307094</td>\n",
       "      <td>0.110786</td>\n",
       "      <td>0.162831</td>\n",
       "      <td>8557.000000</td>\n",
       "    </tr>\n",
       "    <tr>\n",
       "      <th>Natural</th>\n",
       "      <td>0.753851</td>\n",
       "      <td>0.814944</td>\n",
       "      <td>0.783208</td>\n",
       "      <td>46359.000000</td>\n",
       "    </tr>\n",
       "    <tr>\n",
       "      <th>Power supply</th>\n",
       "      <td>0.367046</td>\n",
       "      <td>0.092427</td>\n",
       "      <td>0.147669</td>\n",
       "      <td>5929.000000</td>\n",
       "    </tr>\n",
       "    <tr>\n",
       "      <th>Railroad operations and maintenance</th>\n",
       "      <td>0.584335</td>\n",
       "      <td>0.370468</td>\n",
       "      <td>0.453449</td>\n",
       "      <td>3806.000000</td>\n",
       "    </tr>\n",
       "    <tr>\n",
       "      <th>Recreation and ceremony</th>\n",
       "      <td>0.504584</td>\n",
       "      <td>0.337349</td>\n",
       "      <td>0.404357</td>\n",
       "      <td>14030.000000</td>\n",
       "    </tr>\n",
       "    <tr>\n",
       "      <th>Smoking</th>\n",
       "      <td>0.207340</td>\n",
       "      <td>0.051571</td>\n",
       "      <td>0.082598</td>\n",
       "      <td>8435.000000</td>\n",
       "    </tr>\n",
       "    <tr>\n",
       "      <th>Undetermined</th>\n",
       "      <td>0.599527</td>\n",
       "      <td>0.677267</td>\n",
       "      <td>0.636030</td>\n",
       "      <td>92073.000000</td>\n",
       "    </tr>\n",
       "    <tr>\n",
       "      <th>accuracy</th>\n",
       "      <td>0.578475</td>\n",
       "      <td>0.578475</td>\n",
       "      <td>0.578475</td>\n",
       "      <td>0.578475</td>\n",
       "    </tr>\n",
       "    <tr>\n",
       "      <th>macro avg</th>\n",
       "      <td>0.516884</td>\n",
       "      <td>0.387541</td>\n",
       "      <td>0.423460</td>\n",
       "      <td>336469.000000</td>\n",
       "    </tr>\n",
       "    <tr>\n",
       "      <th>weighted avg</th>\n",
       "      <td>0.557322</td>\n",
       "      <td>0.578475</td>\n",
       "      <td>0.557196</td>\n",
       "      <td>336469.000000</td>\n",
       "    </tr>\n",
       "  </tbody>\n",
       "</table>\n",
       "</div>"
      ],
      "text/plain": [
       "                                     precision    recall  f1-score  \\\n",
       "Arson                                 0.537909  0.467349  0.500153   \n",
       "Debris and open burning               0.539827  0.706374  0.611972   \n",
       "Equipment and vehicle use             0.413102  0.244886  0.307491   \n",
       "Firearms and explosives use           0.795181  0.390533  0.523810   \n",
       "Fireworks                             0.592817  0.386544  0.467958   \n",
       "Misuse of fire by a minor             0.307094  0.110786  0.162831   \n",
       "Natural                               0.753851  0.814944  0.783208   \n",
       "Power supply                          0.367046  0.092427  0.147669   \n",
       "Railroad operations and maintenance   0.584335  0.370468  0.453449   \n",
       "Recreation and ceremony               0.504584  0.337349  0.404357   \n",
       "Smoking                               0.207340  0.051571  0.082598   \n",
       "Undetermined                          0.599527  0.677267  0.636030   \n",
       "accuracy                              0.578475  0.578475  0.578475   \n",
       "macro avg                             0.516884  0.387541  0.423460   \n",
       "weighted avg                          0.557322  0.578475  0.557196   \n",
       "\n",
       "                                           support  \n",
       "Arson                                 43751.000000  \n",
       "Debris and open burning               81638.000000  \n",
       "Equipment and vehicle use             28352.000000  \n",
       "Firearms and explosives use             507.000000  \n",
       "Fireworks                              3032.000000  \n",
       "Misuse of fire by a minor              8557.000000  \n",
       "Natural                               46359.000000  \n",
       "Power supply                           5929.000000  \n",
       "Railroad operations and maintenance    3806.000000  \n",
       "Recreation and ceremony               14030.000000  \n",
       "Smoking                                8435.000000  \n",
       "Undetermined                          92073.000000  \n",
       "accuracy                                  0.578475  \n",
       "macro avg                            336469.000000  \n",
       "weighted avg                         336469.000000  "
      ]
     },
     "execution_count": 31,
     "metadata": {},
     "output_type": "execute_result"
    }
   ],
   "source": [
    "report_df"
   ]
  },
  {
   "cell_type": "code",
   "execution_count": 32,
   "id": "f2e9d3b4-5aad-4dfc-b1b9-b23c994c2718",
   "metadata": {},
   "outputs": [
    {
     "data": {
      "text/html": [
       "<div>\n",
       "<style scoped>\n",
       "    .dataframe tbody tr th:only-of-type {\n",
       "        vertical-align: middle;\n",
       "    }\n",
       "\n",
       "    .dataframe tbody tr th {\n",
       "        vertical-align: top;\n",
       "    }\n",
       "\n",
       "    .dataframe thead th {\n",
       "        text-align: right;\n",
       "    }\n",
       "</style>\n",
       "<table border=\"1\" class=\"dataframe\">\n",
       "  <thead>\n",
       "    <tr style=\"text-align: right;\">\n",
       "      <th></th>\n",
       "      <th>importance</th>\n",
       "    </tr>\n",
       "  </thead>\n",
       "  <tbody>\n",
       "    <tr>\n",
       "      <th>TEMPERATURE</th>\n",
       "      <td>0.115435</td>\n",
       "    </tr>\n",
       "    <tr>\n",
       "      <th>DAY_OF_YEAR</th>\n",
       "      <td>0.114356</td>\n",
       "    </tr>\n",
       "    <tr>\n",
       "      <th>ELEVATION</th>\n",
       "      <td>0.114330</td>\n",
       "    </tr>\n",
       "    <tr>\n",
       "      <th>WIND_SPEED</th>\n",
       "      <td>0.105975</td>\n",
       "    </tr>\n",
       "    <tr>\n",
       "      <th>FIRE_SIZE</th>\n",
       "      <td>0.092721</td>\n",
       "    </tr>\n",
       "    <tr>\n",
       "      <th>FIRE_YEAR</th>\n",
       "      <td>0.082332</td>\n",
       "    </tr>\n",
       "    <tr>\n",
       "      <th>COUNTY_STATE</th>\n",
       "      <td>0.079470</td>\n",
       "    </tr>\n",
       "    <tr>\n",
       "      <th>PRECIPITATION</th>\n",
       "      <td>0.078166</td>\n",
       "    </tr>\n",
       "    <tr>\n",
       "      <th>STATE</th>\n",
       "      <td>0.076163</td>\n",
       "    </tr>\n",
       "    <tr>\n",
       "      <th>DAY_OF_WEEK</th>\n",
       "      <td>0.055164</td>\n",
       "    </tr>\n",
       "    <tr>\n",
       "      <th>OWNER_DESCR</th>\n",
       "      <td>0.040682</td>\n",
       "    </tr>\n",
       "    <tr>\n",
       "      <th>NWCG_REPORTING_AGENCY</th>\n",
       "      <td>0.027970</td>\n",
       "    </tr>\n",
       "    <tr>\n",
       "      <th>DURATION</th>\n",
       "      <td>0.017237</td>\n",
       "    </tr>\n",
       "  </tbody>\n",
       "</table>\n",
       "</div>"
      ],
      "text/plain": [
       "                       importance\n",
       "TEMPERATURE              0.115435\n",
       "DAY_OF_YEAR              0.114356\n",
       "ELEVATION                0.114330\n",
       "WIND_SPEED               0.105975\n",
       "FIRE_SIZE                0.092721\n",
       "FIRE_YEAR                0.082332\n",
       "COUNTY_STATE             0.079470\n",
       "PRECIPITATION            0.078166\n",
       "STATE                    0.076163\n",
       "DAY_OF_WEEK              0.055164\n",
       "OWNER_DESCR              0.040682\n",
       "NWCG_REPORTING_AGENCY    0.027970\n",
       "DURATION                 0.017237"
      ]
     },
     "execution_count": 32,
     "metadata": {},
     "output_type": "execute_result"
    }
   ],
   "source": [
    "feature_importances = pd.DataFrame(\n",
    "    rf1.feature_importances_, \n",
    "    index =X1_train.columns,  \n",
    "    columns=['importance']\n",
    ").sort_values('importance', ascending=False)\n",
    "\n",
    "feature_importances"
   ]
  },
  {
   "cell_type": "markdown",
   "id": "a6af30f4-74bb-4b38-bb64-807361e5fdfb",
   "metadata": {},
   "source": [
    "# Random Forest Dataset 2\n",
    "\n",
    "data with OWNER_DESCR and NWCG_REPORTING_AGENCY removed"
   ]
  },
  {
   "cell_type": "code",
   "execution_count": 21,
   "id": "2275999d-99f8-4c62-bb29-962455ee17e9",
   "metadata": {},
   "outputs": [],
   "source": [
    "data_2 = model_data.drop(['OWNER_DESCR','NWCG_REPORTING_AGENCY'], axis=1)"
   ]
  },
  {
   "cell_type": "code",
   "execution_count": 22,
   "id": "c8e895d2-0d83-41d8-90be-c497d650d714",
   "metadata": {},
   "outputs": [],
   "source": [
    "X2 = data_2.drop(\"NWCG_GENERAL_CAUSE\", axis=1)\n",
    "y2 = data_2[\"NWCG_GENERAL_CAUSE\"]\n",
    "\n",
    "\n",
    "X2_train, X2_test, y2_train, y2_test = train_test_split(X2,y2, test_size=0.2, shuffle=True, random_state=2)"
   ]
  },
  {
   "cell_type": "code",
   "execution_count": 23,
   "id": "5d9fcebb-c4b7-4570-9b2f-a13f89091030",
   "metadata": {},
   "outputs": [
    {
     "name": "stdout",
     "output_type": "stream",
     "text": [
      "Decision Tree Accuracy Score: 0.4577212165162318\n"
     ]
    }
   ],
   "source": [
    "dt2 = DecisionTreeClassifier()\n",
    "dt2.fit(X2_train,y2_train)\n",
    "dt2_predictions = dt2.predict(X2_test)\n",
    "dt2_acc = accuracy_score(y2_test, dt2_predictions)\n",
    "print(f\"Decision Tree Accuracy Score: {dt2_acc}\")"
   ]
  },
  {
   "cell_type": "code",
   "execution_count": 25,
   "id": "d10b1e7b-61fb-4415-8d54-f7467a6d7f34",
   "metadata": {},
   "outputs": [
    {
     "name": "stdout",
     "output_type": "stream",
     "text": [
      "Random Forest Accuracy Score: 0.5571984343282739\n",
      "--- 1500.71 seconds ---\n"
     ]
    }
   ],
   "source": [
    "start_time = time.time()\n",
    "\n",
    "rf2 = RandomForestClassifier()\n",
    "rf2.fit(X2_train, y2_train)\n",
    "rf2_predictions = rf2.predict(X2_test)\n",
    "rf2_acc = accuracy_score(y2_test, rf2_predictions)\n",
    "rf2_f1 = f1_score(y2_test, rf2_predictions, average='weighted')\n",
    "print(f\"Random Forest Accuracy Score: {rf2_acc}, F1-Score: {rf2_f1}\")\n",
    "\n",
    "\n",
    "print(\"--- %s seconds ---\" % round(time.time() - start_time, 2))"
   ]
  },
  {
   "cell_type": "code",
   "execution_count": 35,
   "id": "c136b530-fd97-42be-9a37-71e33ce28a44",
   "metadata": {},
   "outputs": [],
   "source": [
    "from sklearn.metrics import f1_score\n",
    "rf2_f1 = f1_score(y2_test, rf2_predictions, average='micro')"
   ]
  },
  {
   "cell_type": "code",
   "execution_count": 36,
   "id": "eaeacfac-5c7e-4b74-b127-6eb0b984df3e",
   "metadata": {},
   "outputs": [
    {
     "data": {
      "text/plain": [
       "0.5571984343282739"
      ]
     },
     "execution_count": 36,
     "metadata": {},
     "output_type": "execute_result"
    }
   ],
   "source": [
    "rf2_f1"
   ]
  },
  {
   "cell_type": "code",
   "execution_count": 26,
   "id": "a4ec527d-4baf-4261-866e-21c13b79824c",
   "metadata": {},
   "outputs": [
    {
     "data": {
      "text/html": [
       "<div>\n",
       "<style scoped>\n",
       "    .dataframe tbody tr th:only-of-type {\n",
       "        vertical-align: middle;\n",
       "    }\n",
       "\n",
       "    .dataframe tbody tr th {\n",
       "        vertical-align: top;\n",
       "    }\n",
       "\n",
       "    .dataframe thead th {\n",
       "        text-align: right;\n",
       "    }\n",
       "</style>\n",
       "<table border=\"1\" class=\"dataframe\">\n",
       "  <thead>\n",
       "    <tr style=\"text-align: right;\">\n",
       "      <th></th>\n",
       "      <th>precision</th>\n",
       "      <th>recall</th>\n",
       "      <th>f1-score</th>\n",
       "      <th>support</th>\n",
       "    </tr>\n",
       "  </thead>\n",
       "  <tbody>\n",
       "    <tr>\n",
       "      <th>Arson</th>\n",
       "      <td>0.516076</td>\n",
       "      <td>0.446116</td>\n",
       "      <td>0.478552</td>\n",
       "      <td>43751.000000</td>\n",
       "    </tr>\n",
       "    <tr>\n",
       "      <th>Debris and open burning</th>\n",
       "      <td>0.524270</td>\n",
       "      <td>0.685330</td>\n",
       "      <td>0.594077</td>\n",
       "      <td>81638.000000</td>\n",
       "    </tr>\n",
       "    <tr>\n",
       "      <th>Equipment and vehicle use</th>\n",
       "      <td>0.379652</td>\n",
       "      <td>0.217304</td>\n",
       "      <td>0.276402</td>\n",
       "      <td>28352.000000</td>\n",
       "    </tr>\n",
       "    <tr>\n",
       "      <th>Firearms and explosives use</th>\n",
       "      <td>0.727273</td>\n",
       "      <td>0.347140</td>\n",
       "      <td>0.469960</td>\n",
       "      <td>507.000000</td>\n",
       "    </tr>\n",
       "    <tr>\n",
       "      <th>Fireworks</th>\n",
       "      <td>0.577509</td>\n",
       "      <td>0.362467</td>\n",
       "      <td>0.445390</td>\n",
       "      <td>3032.000000</td>\n",
       "    </tr>\n",
       "    <tr>\n",
       "      <th>Misuse of fire by a minor</th>\n",
       "      <td>0.276307</td>\n",
       "      <td>0.097581</td>\n",
       "      <td>0.144227</td>\n",
       "      <td>8557.000000</td>\n",
       "    </tr>\n",
       "    <tr>\n",
       "      <th>Natural</th>\n",
       "      <td>0.729408</td>\n",
       "      <td>0.807071</td>\n",
       "      <td>0.766277</td>\n",
       "      <td>46359.000000</td>\n",
       "    </tr>\n",
       "    <tr>\n",
       "      <th>Power supply</th>\n",
       "      <td>0.342986</td>\n",
       "      <td>0.089897</td>\n",
       "      <td>0.142456</td>\n",
       "      <td>5929.000000</td>\n",
       "    </tr>\n",
       "    <tr>\n",
       "      <th>Railroad operations and maintenance</th>\n",
       "      <td>0.565036</td>\n",
       "      <td>0.354966</td>\n",
       "      <td>0.436017</td>\n",
       "      <td>3806.000000</td>\n",
       "    </tr>\n",
       "    <tr>\n",
       "      <th>Recreation and ceremony</th>\n",
       "      <td>0.437706</td>\n",
       "      <td>0.255167</td>\n",
       "      <td>0.322392</td>\n",
       "      <td>14030.000000</td>\n",
       "    </tr>\n",
       "    <tr>\n",
       "      <th>Smoking</th>\n",
       "      <td>0.184000</td>\n",
       "      <td>0.051808</td>\n",
       "      <td>0.080851</td>\n",
       "      <td>8435.000000</td>\n",
       "    </tr>\n",
       "    <tr>\n",
       "      <th>Undetermined</th>\n",
       "      <td>0.576903</td>\n",
       "      <td>0.656284</td>\n",
       "      <td>0.614039</td>\n",
       "      <td>92073.000000</td>\n",
       "    </tr>\n",
       "    <tr>\n",
       "      <th>accuracy</th>\n",
       "      <td>0.557198</td>\n",
       "      <td>0.557198</td>\n",
       "      <td>0.557198</td>\n",
       "      <td>0.557198</td>\n",
       "    </tr>\n",
       "    <tr>\n",
       "      <th>macro avg</th>\n",
       "      <td>0.486427</td>\n",
       "      <td>0.364261</td>\n",
       "      <td>0.397553</td>\n",
       "      <td>336469.000000</td>\n",
       "    </tr>\n",
       "    <tr>\n",
       "      <th>weighted avg</th>\n",
       "      <td>0.533292</td>\n",
       "      <td>0.557198</td>\n",
       "      <td>0.534567</td>\n",
       "      <td>336469.000000</td>\n",
       "    </tr>\n",
       "  </tbody>\n",
       "</table>\n",
       "</div>"
      ],
      "text/plain": [
       "                                     precision    recall  f1-score  \\\n",
       "Arson                                 0.516076  0.446116  0.478552   \n",
       "Debris and open burning               0.524270  0.685330  0.594077   \n",
       "Equipment and vehicle use             0.379652  0.217304  0.276402   \n",
       "Firearms and explosives use           0.727273  0.347140  0.469960   \n",
       "Fireworks                             0.577509  0.362467  0.445390   \n",
       "Misuse of fire by a minor             0.276307  0.097581  0.144227   \n",
       "Natural                               0.729408  0.807071  0.766277   \n",
       "Power supply                          0.342986  0.089897  0.142456   \n",
       "Railroad operations and maintenance   0.565036  0.354966  0.436017   \n",
       "Recreation and ceremony               0.437706  0.255167  0.322392   \n",
       "Smoking                               0.184000  0.051808  0.080851   \n",
       "Undetermined                          0.576903  0.656284  0.614039   \n",
       "accuracy                              0.557198  0.557198  0.557198   \n",
       "macro avg                             0.486427  0.364261  0.397553   \n",
       "weighted avg                          0.533292  0.557198  0.534567   \n",
       "\n",
       "                                           support  \n",
       "Arson                                 43751.000000  \n",
       "Debris and open burning               81638.000000  \n",
       "Equipment and vehicle use             28352.000000  \n",
       "Firearms and explosives use             507.000000  \n",
       "Fireworks                              3032.000000  \n",
       "Misuse of fire by a minor              8557.000000  \n",
       "Natural                               46359.000000  \n",
       "Power supply                           5929.000000  \n",
       "Railroad operations and maintenance    3806.000000  \n",
       "Recreation and ceremony               14030.000000  \n",
       "Smoking                                8435.000000  \n",
       "Undetermined                          92073.000000  \n",
       "accuracy                                  0.557198  \n",
       "macro avg                            336469.000000  \n",
       "weighted avg                         336469.000000  "
      ]
     },
     "execution_count": 26,
     "metadata": {},
     "output_type": "execute_result"
    }
   ],
   "source": [
    "report = classification_report(y2_test, rf2_predictions, output_dict=True)\n",
    "report_df = pd.DataFrame(report).transpose()\n",
    "report_df"
   ]
  },
  {
   "cell_type": "code",
   "execution_count": 27,
   "id": "3efaac9a-520b-4f51-9d46-aa3e2b8a0bc3",
   "metadata": {},
   "outputs": [
    {
     "data": {
      "text/html": [
       "<div>\n",
       "<style scoped>\n",
       "    .dataframe tbody tr th:only-of-type {\n",
       "        vertical-align: middle;\n",
       "    }\n",
       "\n",
       "    .dataframe tbody tr th {\n",
       "        vertical-align: top;\n",
       "    }\n",
       "\n",
       "    .dataframe thead th {\n",
       "        text-align: right;\n",
       "    }\n",
       "</style>\n",
       "<table border=\"1\" class=\"dataframe\">\n",
       "  <thead>\n",
       "    <tr style=\"text-align: right;\">\n",
       "      <th></th>\n",
       "      <th>importance</th>\n",
       "    </tr>\n",
       "  </thead>\n",
       "  <tbody>\n",
       "    <tr>\n",
       "      <th>ELEVATION</th>\n",
       "      <td>0.125458</td>\n",
       "    </tr>\n",
       "    <tr>\n",
       "      <th>DAY_OF_YEAR</th>\n",
       "      <td>0.122767</td>\n",
       "    </tr>\n",
       "    <tr>\n",
       "      <th>TEMPERATURE</th>\n",
       "      <td>0.122409</td>\n",
       "    </tr>\n",
       "    <tr>\n",
       "      <th>WIND_SPEED</th>\n",
       "      <td>0.113483</td>\n",
       "    </tr>\n",
       "    <tr>\n",
       "      <th>FIRE_SIZE</th>\n",
       "      <td>0.100095</td>\n",
       "    </tr>\n",
       "    <tr>\n",
       "      <th>FIRE_YEAR</th>\n",
       "      <td>0.085754</td>\n",
       "    </tr>\n",
       "    <tr>\n",
       "      <th>COUNTY_STATE</th>\n",
       "      <td>0.084383</td>\n",
       "    </tr>\n",
       "    <tr>\n",
       "      <th>STATE</th>\n",
       "      <td>0.082729</td>\n",
       "    </tr>\n",
       "    <tr>\n",
       "      <th>PRECIPITATION</th>\n",
       "      <td>0.081548</td>\n",
       "    </tr>\n",
       "    <tr>\n",
       "      <th>DAY_OF_WEEK</th>\n",
       "      <td>0.057903</td>\n",
       "    </tr>\n",
       "    <tr>\n",
       "      <th>DURATION</th>\n",
       "      <td>0.023470</td>\n",
       "    </tr>\n",
       "  </tbody>\n",
       "</table>\n",
       "</div>"
      ],
      "text/plain": [
       "               importance\n",
       "ELEVATION        0.125458\n",
       "DAY_OF_YEAR      0.122767\n",
       "TEMPERATURE      0.122409\n",
       "WIND_SPEED       0.113483\n",
       "FIRE_SIZE        0.100095\n",
       "FIRE_YEAR        0.085754\n",
       "COUNTY_STATE     0.084383\n",
       "STATE            0.082729\n",
       "PRECIPITATION    0.081548\n",
       "DAY_OF_WEEK      0.057903\n",
       "DURATION         0.023470"
      ]
     },
     "execution_count": 27,
     "metadata": {},
     "output_type": "execute_result"
    }
   ],
   "source": [
    "feature_importances2 = pd.DataFrame(\n",
    "    rf2.feature_importances_, \n",
    "    index =X2_train.columns,  \n",
    "    columns=['importance']\n",
    ").sort_values('importance', ascending=False)\n",
    "\n",
    "feature_importances2"
   ]
  },
  {
   "cell_type": "code",
   "execution_count": 42,
   "id": "97120daa-3590-4869-b567-b3e1581cc267",
   "metadata": {},
   "outputs": [
    {
     "data": {
      "image/png": "[encoded data removed]",
      "text/plain": [
       "<Figure size 576x432 with 2 Axes>"
      ]
     },
     "metadata": {
      "needs_background": "light"
     },
     "output_type": "display_data"
    }
   ],
   "source": [
    "# Make a correlation matrix \n",
    "labels = y2_test.value_counts().index\n",
    "cm = confusion_matrix(y2_test, dt2_predictions, labels=labels)\n",
    "\n",
    "plt.figure(figsize=(8, 6))\n",
    "sns.heatmap(cm, annot=True, cmap=\"Blues\", fmt=\"d\", xticklabels=labels, yticklabels=labels)\n",
    "plt.xlabel('Predicted')\n",
    "plt.ylabel('True')\n",
    "plt.title('Confusion Matrix')\n",
    "plt.show()"
   ]
  },
  {
   "cell_type": "code",
   "execution_count": 20,
   "id": "4a030603-944d-4923-a899-726482369b7c",
   "metadata": {},
   "outputs": [],
   "source": [
    "# Creating dataset 2 - removing undetermined and combining other categories\n",
    "data_2 = model_data.drop(['OWNER_DESCR','NWCG_REPORTING_AGENCY'], axis=1)\n",
    "data_3 = data_2[data_2['NWCG_GENERAL_CAUSE']!= 'Undetermined']\n",
    "\n",
    "# Combining Railroad, Power & Equipment/Vehicle\n",
    "# data_3['NWCG_GENERAL_CAUSE'] = data_3['NWCG_GENERAL_CAUSE'].replace({'Railroad operations and maintenance': 'Infrastructure-related causes',\n",
    "#                                                                           'Power supply': 'Infrastructure-related causes',\n",
    "#                                                                           'Equipment and vehicle use': 'Infrastructure-related causes'})\n",
    "\n",
    "# I am going to drop 'firearms & explosives use' as they don't fit exactly\n",
    "# into another category, and there's so relatively few of them\n",
    "# data_2 = data_2[data_2['NWCG_GENERAL_CAUSE']!='Firearms and explosives use']\n",
    "\n",
    "# Combining FIreworks with Recreation & Ceremony\n",
    "# data_2['NWCG_GENERAL_CAUSE'] = data_2['NWCG_GENERAL_CAUSE'].replace({'Fireworks': 'Recreation and ceremony'})\n"
   ]
  },
  {
   "cell_type": "code",
   "execution_count": 21,
   "id": "8de455db-4358-4c25-ba91-ecf479cfd1f5",
   "metadata": {},
   "outputs": [],
   "source": [
    "X3 = data_3.drop(\"NWCG_GENERAL_CAUSE\", axis=1)\n",
    "y3 = data_3[\"NWCG_GENERAL_CAUSE\"]\n",
    "\n",
    "\n",
    "X3_train, X3_test, y3_train, y3_test = train_test_split(X3,y3, test_size=0.2, shuffle=True, random_state=2)"
   ]
  },
  {
   "cell_type": "code",
   "execution_count": 24,
   "id": "edb5a09b-fb79-4f68-a490-da3f19028f46",
   "metadata": {},
   "outputs": [
    {
     "name": "stdout",
     "output_type": "stream",
     "text": [
      "Decision Tree Accuracy Score: 0.4862473631392467, f1 Score: 0.4862473631392467\n"
     ]
    }
   ],
   "source": [
    "dt3 = DecisionTreeClassifier()\n",
    "dt3.fit(X3_train,y3_train)\n",
    "dt3_predictions = dt3.predict(X3_test)\n",
    "dt3_acc = accuracy_score(y3_test, dt3_predictions)\n",
    "dt3_f1 = f1_score(y3_test, dt3_predictions, average='micro')\n",
    "print(f\"Decision Tree Accuracy Score: {dt3_acc}, f1 Score: {dt3_f1}\")"
   ]
  },
  {
   "cell_type": "code",
   "execution_count": 25,
   "id": "4b7477ed-1ad8-42e4-8801-f640966a17d1",
   "metadata": {},
   "outputs": [
    {
     "name": "stdout",
     "output_type": "stream",
     "text": [
      "Random Forest Accuracy Score: 0.5940893358182973, F1-Score: 0.5686397349839172\n",
      "--- 709.05 seconds ---\n"
     ]
    }
   ],
   "source": [
    "start_time = time.time()\n",
    "\n",
    "rf3 = RandomForestClassifier()\n",
    "rf3.fit(X3_train, y3_train)\n",
    "rf3_predictions = rf3.predict(X3_test)\n",
    "rf3_acc = accuracy_score(y3_test, rf3_predictions)\n",
    "rf3_f1 = f1_score(y3_test, rf3_predictions, average='weighted')\n",
    "print(f\"Random Forest Accuracy Score: {rf3_acc}, F1-Score: {rf3_f1}\")\n",
    "\n",
    "\n",
    "print(\"--- %s seconds ---\" % round(time.time() - start_time, 2))"
   ]
  },
  {
   "cell_type": "code",
   "execution_count": 27,
   "id": "552a9673-7ca3-41ed-a5de-e12603e458f5",
   "metadata": {},
   "outputs": [
    {
     "data": {
      "text/html": [
       "<div>\n",
       "<style scoped>\n",
       "    .dataframe tbody tr th:only-of-type {\n",
       "        vertical-align: middle;\n",
       "    }\n",
       "\n",
       "    .dataframe tbody tr th {\n",
       "        vertical-align: top;\n",
       "    }\n",
       "\n",
       "    .dataframe thead th {\n",
       "        text-align: right;\n",
       "    }\n",
       "</style>\n",
       "<table border=\"1\" class=\"dataframe\">\n",
       "  <thead>\n",
       "    <tr style=\"text-align: right;\">\n",
       "      <th></th>\n",
       "      <th>precision</th>\n",
       "      <th>recall</th>\n",
       "      <th>f1-score</th>\n",
       "      <th>support</th>\n",
       "    </tr>\n",
       "  </thead>\n",
       "  <tbody>\n",
       "    <tr>\n",
       "      <th>Arson</th>\n",
       "      <td>0.550083</td>\n",
       "      <td>0.520245</td>\n",
       "      <td>0.534748</td>\n",
       "      <td>43987.000000</td>\n",
       "    </tr>\n",
       "    <tr>\n",
       "      <th>Debris and open burning</th>\n",
       "      <td>0.584213</td>\n",
       "      <td>0.781120</td>\n",
       "      <td>0.668468</td>\n",
       "      <td>81081.000000</td>\n",
       "    </tr>\n",
       "    <tr>\n",
       "      <th>Equipment and vehicle use</th>\n",
       "      <td>0.460294</td>\n",
       "      <td>0.357428</td>\n",
       "      <td>0.402391</td>\n",
       "      <td>28347.000000</td>\n",
       "    </tr>\n",
       "    <tr>\n",
       "      <th>Firearms and explosives use</th>\n",
       "      <td>0.795652</td>\n",
       "      <td>0.386076</td>\n",
       "      <td>0.519886</td>\n",
       "      <td>474.000000</td>\n",
       "    </tr>\n",
       "    <tr>\n",
       "      <th>Fireworks</th>\n",
       "      <td>0.630754</td>\n",
       "      <td>0.401223</td>\n",
       "      <td>0.490462</td>\n",
       "      <td>3108.000000</td>\n",
       "    </tr>\n",
       "    <tr>\n",
       "      <th>Misuse of fire by a minor</th>\n",
       "      <td>0.313826</td>\n",
       "      <td>0.108998</td>\n",
       "      <td>0.161800</td>\n",
       "      <td>8413.000000</td>\n",
       "    </tr>\n",
       "    <tr>\n",
       "      <th>Natural</th>\n",
       "      <td>0.764095</td>\n",
       "      <td>0.839383</td>\n",
       "      <td>0.799971</td>\n",
       "      <td>46533.000000</td>\n",
       "    </tr>\n",
       "    <tr>\n",
       "      <th>Power supply</th>\n",
       "      <td>0.414861</td>\n",
       "      <td>0.114549</td>\n",
       "      <td>0.179528</td>\n",
       "      <td>5849.000000</td>\n",
       "    </tr>\n",
       "    <tr>\n",
       "      <th>Railroad operations and maintenance</th>\n",
       "      <td>0.617556</td>\n",
       "      <td>0.354072</td>\n",
       "      <td>0.450088</td>\n",
       "      <td>3954.000000</td>\n",
       "    </tr>\n",
       "    <tr>\n",
       "      <th>Recreation and ceremony</th>\n",
       "      <td>0.481964</td>\n",
       "      <td>0.318609</td>\n",
       "      <td>0.383621</td>\n",
       "      <td>13923.000000</td>\n",
       "    </tr>\n",
       "    <tr>\n",
       "      <th>Smoking</th>\n",
       "      <td>0.279137</td>\n",
       "      <td>0.091661</td>\n",
       "      <td>0.138005</td>\n",
       "      <td>8466.000000</td>\n",
       "    </tr>\n",
       "    <tr>\n",
       "      <th>accuracy</th>\n",
       "      <td>0.594089</td>\n",
       "      <td>0.594089</td>\n",
       "      <td>0.594089</td>\n",
       "      <td>0.594089</td>\n",
       "    </tr>\n",
       "    <tr>\n",
       "      <th>macro avg</th>\n",
       "      <td>0.535676</td>\n",
       "      <td>0.388488</td>\n",
       "      <td>0.429906</td>\n",
       "      <td>244135.000000</td>\n",
       "    </tr>\n",
       "    <tr>\n",
       "      <th>weighted avg</th>\n",
       "      <td>0.569719</td>\n",
       "      <td>0.594089</td>\n",
       "      <td>0.568640</td>\n",
       "      <td>244135.000000</td>\n",
       "    </tr>\n",
       "  </tbody>\n",
       "</table>\n",
       "</div>"
      ],
      "text/plain": [
       "                                     precision    recall  f1-score  \\\n",
       "Arson                                 0.550083  0.520245  0.534748   \n",
       "Debris and open burning               0.584213  0.781120  0.668468   \n",
       "Equipment and vehicle use             0.460294  0.357428  0.402391   \n",
       "Firearms and explosives use           0.795652  0.386076  0.519886   \n",
       "Fireworks                             0.630754  0.401223  0.490462   \n",
       "Misuse of fire by a minor             0.313826  0.108998  0.161800   \n",
       "Natural                               0.764095  0.839383  0.799971   \n",
       "Power supply                          0.414861  0.114549  0.179528   \n",
       "Railroad operations and maintenance   0.617556  0.354072  0.450088   \n",
       "Recreation and ceremony               0.481964  0.318609  0.383621   \n",
       "Smoking                               0.279137  0.091661  0.138005   \n",
       "accuracy                              0.594089  0.594089  0.594089   \n",
       "macro avg                             0.535676  0.388488  0.429906   \n",
       "weighted avg                          0.569719  0.594089  0.568640   \n",
       "\n",
       "                                           support  \n",
       "Arson                                 43987.000000  \n",
       "Debris and open burning               81081.000000  \n",
       "Equipment and vehicle use             28347.000000  \n",
       "Firearms and explosives use             474.000000  \n",
       "Fireworks                              3108.000000  \n",
       "Misuse of fire by a minor              8413.000000  \n",
       "Natural                               46533.000000  \n",
       "Power supply                           5849.000000  \n",
       "Railroad operations and maintenance    3954.000000  \n",
       "Recreation and ceremony               13923.000000  \n",
       "Smoking                                8466.000000  \n",
       "accuracy                                  0.594089  \n",
       "macro avg                            244135.000000  \n",
       "weighted avg                         244135.000000  "
      ]
     },
     "execution_count": 27,
     "metadata": {},
     "output_type": "execute_result"
    }
   ],
   "source": [
    "report3 = classification_report(y3_test, rf3_predictions, output_dict=True)\n",
    "report3_df = pd.DataFrame(report3).transpose()\n",
    "report3_df"
   ]
  },
  {
   "cell_type": "code",
   "execution_count": 28,
   "id": "0e93f20b-6068-4c9c-bd1f-6304c260c65d",
   "metadata": {},
   "outputs": [
    {
     "data": {
      "image/png": "[encoded data removed]",
      "text/plain": [
       "<Figure size 576x432 with 2 Axes>"
      ]
     },
     "metadata": {
      "needs_background": "light"
     },
     "output_type": "display_data"
    }
   ],
   "source": [
    "# Make a correlation matrix \n",
    "labels = y3_test.value_counts().index\n",
    "cm = confusion_matrix(y3_test, rf3_predictions, labels=labels)\n",
    "\n",
    "plt.figure(figsize=(8, 6))\n",
    "sns.heatmap(cm, annot=True, cmap=\"Blues\", fmt=\"d\", xticklabels=labels, yticklabels=labels)\n",
    "plt.xlabel('Predicted')\n",
    "plt.ylabel('True')\n",
    "plt.title('Confusion Matrix')\n",
    "plt.show()"
   ]
  },
  {
   "cell_type": "code",
   "execution_count": 29,
   "id": "cc1e591f-78f1-40d6-841a-1c031a691a72",
   "metadata": {},
   "outputs": [
    {
     "name": "stderr",
     "output_type": "stream",
     "text": [
      "<ipython-input-29-268da25a12fa>:6: SettingWithCopyWarning: \n",
      "A value is trying to be set on a copy of a slice from a DataFrame.\n",
      "Try using .loc[row_indexer,col_indexer] = value instead\n",
      "\n",
      "See the caveats in the documentation: https://pandas.pydata.org/pandas-docs/stable/user_guide/indexing.html#returning-a-view-versus-a-copy\n",
      "  data_4['NWCG_GENERAL_CAUSE'] = data_4['NWCG_GENERAL_CAUSE'].replace({'Railroad operations and maintenance': 'Infrastructure-related causes',\n"
     ]
    }
   ],
   "source": [
    "# Creating dataset 4 - removing undetermined and combining other categories\n",
    "data_2 = model_data.drop(['OWNER_DESCR','NWCG_REPORTING_AGENCY'], axis=1)\n",
    "data_4 = data_2[data_2['NWCG_GENERAL_CAUSE']!= 'Undetermined']\n",
    "\n",
    "# Combining Railroad, Power & Equipment/Vehicle\n",
    "data_4['NWCG_GENERAL_CAUSE'] = data_4['NWCG_GENERAL_CAUSE'].replace({'Railroad operations and maintenance': 'Infrastructure-related causes',\n",
    "                                                                          'Power supply': 'Infrastructure-related causes',\n",
    "                                                                          'Equipment and vehicle use': 'Infrastructure-related causes'})\n"
   ]
  },
  {
   "cell_type": "code",
   "execution_count": 30,
   "id": "16aa5adb-8505-4975-bce5-b00a31e52d7a",
   "metadata": {},
   "outputs": [
    {
     "data": {
      "text/plain": [
       "Debris and open burning          405877\n",
       "Natural                          231547\n",
       "Arson                            219102\n",
       "Infrastructure-related causes    190808\n",
       "Recreation and ceremony           69984\n",
       "Misuse of fire by a minor         43018\n",
       "Smoking                           42540\n",
       "Fireworks                         15376\n",
       "Firearms and explosives use        2423\n",
       "Name: NWCG_GENERAL_CAUSE, dtype: int64"
      ]
     },
     "execution_count": 30,
     "metadata": {},
     "output_type": "execute_result"
    }
   ],
   "source": [
    "data_4['NWCG_GENERAL_CAUSE'].value_counts()"
   ]
  },
  {
   "cell_type": "code",
   "execution_count": 31,
   "id": "c5ae30a4-0b4e-4532-8cae-13ad0b4b179a",
   "metadata": {},
   "outputs": [],
   "source": [
    "X4 = data_4.drop(\"NWCG_GENERAL_CAUSE\", axis=1)\n",
    "y4 = data_4[\"NWCG_GENERAL_CAUSE\"]\n",
    "\n",
    "\n",
    "X4_train, X4_test, y4_train, y4_test = train_test_split(X4,y4, test_size=0.2, shuffle=True, random_state=2)"
   ]
  },
  {
   "cell_type": "code",
   "execution_count": 32,
   "id": "5a2e998b-82ef-4786-b137-bc86084bafb8",
   "metadata": {},
   "outputs": [
    {
     "name": "stdout",
     "output_type": "stream",
     "text": [
      "Decision Tree Accuracy Score: 0.49952690109980136, f1 Score: 0.49952690109980136\n"
     ]
    }
   ],
   "source": [
    "dt4 = DecisionTreeClassifier()\n",
    "dt4.fit(X4_train,y4_train)\n",
    "dt4_predictions = dt4.predict(X4_test)\n",
    "dt4_acc = accuracy_score(y4_test, dt4_predictions)\n",
    "dt4_f1 = f1_score(y4_test, dt4_predictions, average='micro')\n",
    "print(f\"Decision Tree Accuracy Score: {dt4_acc}, f1 Score: {dt4_f1}\")"
   ]
  },
  {
   "cell_type": "code",
   "execution_count": 33,
   "id": "1246115c-05f2-4b3a-b4c1-868f8ff471b1",
   "metadata": {},
   "outputs": [
    {
     "name": "stdout",
     "output_type": "stream",
     "text": [
      "Random Forest Accuracy Score: 0.6030229176480226, F1-Score: 0.5826990299308966\n",
      "--- 629.42 seconds ---\n"
     ]
    }
   ],
   "source": [
    "start_time = time.time()\n",
    "\n",
    "rf4 = RandomForestClassifier()\n",
    "rf4.fit(X4_train, y4_train)\n",
    "rf4_predictions = rf4.predict(X4_test)\n",
    "rf4_acc = accuracy_score(y4_test, rf4_predictions)\n",
    "rf4_f1 = f1_score(y4_test, rf4_predictions, average='weighted')\n",
    "print(f\"Random Forest Accuracy Score: {rf4_acc}, F1-Score: {rf4_f1}\")\n",
    "\n",
    "\n",
    "print(\"--- %s seconds ---\" % round(time.time() - start_time, 2))"
   ]
  },
  {
   "cell_type": "code",
   "execution_count": 34,
   "id": "48f98cfb-b2b9-4bef-8071-75c4a1c4efa2",
   "metadata": {},
   "outputs": [
    {
     "data": {
      "image/png": "[encoded data removed]",
      "text/plain": [
       "<Figure size 576x432 with 2 Axes>"
      ]
     },
     "metadata": {
      "needs_background": "light"
     },
     "output_type": "display_data"
    }
   ],
   "source": [
    "# Make a correlation matrix \n",
    "labels = y4_test.value_counts().index\n",
    "cm = confusion_matrix(y4_test, rf4_predictions, labels=labels)\n",
    "\n",
    "plt.figure(figsize=(8, 6))\n",
    "sns.heatmap(cm, annot=True, cmap=\"Blues\", fmt=\"d\", xticklabels=labels, yticklabels=labels)\n",
    "plt.xlabel('Predicted')\n",
    "plt.ylabel('True')\n",
    "plt.title('Confusion Matrix')\n",
    "plt.show()"
   ]
  },
  {
   "cell_type": "code",
   "execution_count": 20,
   "id": "b8101eb0-3d70-45c3-a4fb-52cf25cb2284",
   "metadata": {},
   "outputs": [
    {
     "name": "stderr",
     "output_type": "stream",
     "text": [
      "<ipython-input-20-2362b542aa21>:7: SettingWithCopyWarning: \n",
      "A value is trying to be set on a copy of a slice from a DataFrame.\n",
      "Try using .loc[row_indexer,col_indexer] = value instead\n",
      "\n",
      "See the caveats in the documentation: https://pandas.pydata.org/pandas-docs/stable/user_guide/indexing.html#returning-a-view-versus-a-copy\n",
      "  data_5['NWCG_GENERAL_CAUSE'] = data_5['NWCG_GENERAL_CAUSE'].replace({'Railroad operations and maintenance': 'Infrastructure-related causes',\n",
      "<ipython-input-20-2362b542aa21>:10: SettingWithCopyWarning: \n",
      "A value is trying to be set on a copy of a slice from a DataFrame.\n",
      "Try using .loc[row_indexer,col_indexer] = value instead\n",
      "\n",
      "See the caveats in the documentation: https://pandas.pydata.org/pandas-docs/stable/user_guide/indexing.html#returning-a-view-versus-a-copy\n",
      "  data_5['NWCG_GENERAL_CAUSE'] = data_5['NWCG_GENERAL_CAUSE'].replace({'Smoking': 'Erratic',\n"
     ]
    }
   ],
   "source": [
    "# Dataset 5 - above but with 'eratic' category of minor & smoking\n",
    "\n",
    "data_2 = model_data.drop(['OWNER_DESCR','NWCG_REPORTING_AGENCY'], axis=1)\n",
    "data_5 = data_2[data_2['NWCG_GENERAL_CAUSE']!= 'Undetermined']\n",
    "\n",
    "\n",
    "data_5['NWCG_GENERAL_CAUSE'] = data_5['NWCG_GENERAL_CAUSE'].replace({'Railroad operations and maintenance': 'Infrastructure-related causes',\n",
    "                                                                          'Power supply': 'Infrastructure-related causes',\n",
    "                                                                          'Equipment and vehicle use': 'Infrastructure-related causes'})\n",
    "data_5['NWCG_GENERAL_CAUSE'] = data_5['NWCG_GENERAL_CAUSE'].replace({'Smoking': 'Erratic',\n",
    "                                                                     'Misuse of fire by a minor': 'Erratic'})\n"
   ]
  },
  {
   "cell_type": "code",
   "execution_count": 24,
   "id": "2c96c428-a40f-475c-aee7-21e88eab0228",
   "metadata": {},
   "outputs": [
    {
     "data": {
      "text/plain": [
       "Debris and open burning          405877\n",
       "Natural                          231547\n",
       "Arson                            219102\n",
       "Infrastructure-related causes    190808\n",
       "Erratic                           85558\n",
       "Recreation and ceremony           69984\n",
       "Fireworks                         15376\n",
       "Firearms and explosives use        2423\n",
       "Name: NWCG_GENERAL_CAUSE, dtype: int64"
      ]
     },
     "execution_count": 24,
     "metadata": {},
     "output_type": "execute_result"
    }
   ],
   "source": [
    "data_5['NWCG_GENERAL_CAUSE'].value_counts()"
   ]
  },
  {
   "cell_type": "code",
   "execution_count": 21,
   "id": "49201df5-87e5-4608-a14c-c994cc5f938f",
   "metadata": {},
   "outputs": [],
   "source": [
    "data_5.to_csv('final_data.csv', index=False)"
   ]
  },
  {
   "cell_type": "code",
   "execution_count": 25,
   "id": "50377fff-77c8-4f01-a294-ef9717c7b518",
   "metadata": {},
   "outputs": [],
   "source": [
    "X5 = data_5.drop(\"NWCG_GENERAL_CAUSE\", axis=1)\n",
    "y5 = data_5[\"NWCG_GENERAL_CAUSE\"]\n",
    "\n",
    "\n",
    "X5_train, X5_test, y5_train, y5_test = train_test_split(X5,y5, test_size=0.2, shuffle=True, random_state=2)"
   ]
  },
  {
   "cell_type": "code",
   "execution_count": 49,
   "id": "0ccc0bc3-09ec-4f79-bf17-8bee28f1a7e0",
   "metadata": {},
   "outputs": [
    {
     "name": "stdout",
     "output_type": "stream",
     "text": [
      "Decision Tree Accuracy Score: 0.5021606897822926, f1 Score: 0.5021606897822926\n"
     ]
    }
   ],
   "source": [
    "dt5 = DecisionTreeClassifier()\n",
    "dt5.fit(X5_train,y5_train)\n",
    "dt5_predictions = dt5.predict(X5_test)\n",
    "dt5_acc = accuracy_score(y5_test, dt5_predictions)\n",
    "dt5_f1 = f1_score(y5_test, dt5_predictions, average='micro')\n",
    "print(f\"Decision Tree Accuracy Score: {dt5_acc}, f1 Score: {dt5_f1}\")"
   ]
  },
  {
   "cell_type": "code",
   "execution_count": 50,
   "id": "90e412b1-c1e3-4fbc-bdca-3fd62d094f8a",
   "metadata": {},
   "outputs": [
    {
     "name": "stdout",
     "output_type": "stream",
     "text": [
      "Random Forest Accuracy Score: 0.6045794335101481, F1-Score: 0.5871579684560867\n",
      "--- 629.58 seconds ---\n"
     ]
    }
   ],
   "source": [
    "start_time = time.time()\n",
    "\n",
    "rf5 = RandomForestClassifier()\n",
    "rf5.fit(X5_train, y5_train)\n",
    "rf5_predictions = rf5.predict(X5_test)\n",
    "rf5_acc = accuracy_score(y5_test, rf5_predictions)\n",
    "rf5_f1 = f1_score(y5_test, rf5_predictions, average='weighted')\n",
    "print(f\"Random Forest Accuracy Score: {rf5_acc}, F1-Score: {rf5_f1}\")\n",
    "\n",
    "\n",
    "print(\"--- %s seconds ---\" % round(time.time() - start_time, 2))"
   ]
  },
  {
   "cell_type": "code",
   "execution_count": 51,
   "id": "034cfd32-4ee0-41c2-94de-ddc6d5a8ddfc",
   "metadata": {},
   "outputs": [
    {
     "data": {
      "image/png": "[encoded data removed]",
      "text/plain": [
       "<Figure size 576x432 with 2 Axes>"
      ]
     },
     "metadata": {
      "needs_background": "light"
     },
     "output_type": "display_data"
    }
   ],
   "source": [
    "# Make a correlation matrix \n",
    "labels = y5_test.value_counts().index\n",
    "cm = confusion_matrix(y5_test, rf5_predictions, labels=labels)\n",
    "\n",
    "plt.figure(figsize=(8, 6))\n",
    "sns.heatmap(cm, annot=True, cmap=\"Blues\", fmt=\"d\", xticklabels=labels, yticklabels=labels)\n",
    "plt.xlabel('Predicted')\n",
    "plt.ylabel('True')\n",
    "plt.title('Confusion Matrix')\n",
    "plt.show()"
   ]
  },
  {
   "cell_type": "code",
   "execution_count": 26,
   "id": "d4165266-24cc-41be-b146-a7e23ff87c29",
   "metadata": {},
   "outputs": [],
   "source": [
    "# Dataset 6 - dataset 5 but oversampled \n",
    "\n",
    "from imblearn.over_sampling import RandomOverSampler\n",
    "ros = RandomOverSampler(random_state=0)\n",
    "X5_resampled, y5_resampled = ros.fit_resample(X5, y5)"
   ]
  },
  {
   "cell_type": "code",
   "execution_count": 27,
   "id": "2734a812-630c-4162-948f-2333dccf8bc0",
   "metadata": {},
   "outputs": [],
   "source": [
    "X6_train, X6_test, y6_train, y6_test = train_test_split(X5_resampled,y5_resampled, test_size=0.2, shuffle=True, random_state=2)"
   ]
  },
  {
   "cell_type": "code",
   "execution_count": 28,
   "id": "525ab728-46d0-4443-a804-6eb4b0ea8c3a",
   "metadata": {},
   "outputs": [
    {
     "name": "stdout",
     "output_type": "stream",
     "text": [
      "Decision Tree Accuracy Score: 0.8752594686820531, f1 Score: 0.8752594686820531\n"
     ]
    }
   ],
   "source": [
    "dt6 = DecisionTreeClassifier()\n",
    "dt6.fit(X6_train,y6_train)\n",
    "dt6_predictions = dt6.predict(X6_test)\n",
    "dt6_acc = accuracy_score(y6_test, dt6_predictions)\n",
    "dt6_f1 = f1_score(y6_test, dt6_predictions, average='micro')\n",
    "print(f\"Decision Tree Accuracy Score: {dt6_acc}, f1 Score: {dt6_f1}\")"
   ]
  },
  {
   "cell_type": "code",
   "execution_count": 29,
   "id": "9a52510c-f78c-4738-aae3-e89d65f8ac2e",
   "metadata": {},
   "outputs": [
    {
     "name": "stdout",
     "output_type": "stream",
     "text": [
      "Random Forest Accuracy Score: 0.9044924269022057, F1-Score: 0.9023806797172509\n",
      "--- 2085.74 seconds ---\n"
     ]
    }
   ],
   "source": [
    "start_time = time.time()\n",
    "\n",
    "rf6 = RandomForestClassifier()\n",
    "rf6.fit(X6_train, y6_train)\n",
    "rf6_predictions = rf6.predict(X6_test)\n",
    "rf6_acc = accuracy_score(y6_test, rf6_predictions)\n",
    "rf6_f1 = f1_score(y6_test, rf6_predictions, average='weighted')\n",
    "print(f\"Random Forest Accuracy Score: {rf6_acc}, F1-Score: {rf6_f1}\")\n",
    "\n",
    "\n",
    "print(\"--- %s seconds ---\" % round(time.time() - start_time, 2))"
   ]
  },
  {
   "cell_type": "code",
   "execution_count": 30,
   "id": "dbc40fd6-3ae3-41a1-9706-f265039c2631",
   "metadata": {},
   "outputs": [],
   "source": [
    "undetermined_data = data_2[data_2['NWCG_GENERAL_CAUSE']== 'Undetermined']\n",
    "undetermined_model = undetermined_data.drop(\"NWCG_GENERAL_CAUSE\", axis=1)\n",
    "\n",
    "undetermined_predicts = rf6.predict(undetermined_model)"
   ]
  },
  {
   "cell_type": "code",
   "execution_count": 35,
   "id": "1d0bdae0-8cf9-4c84-a879-6261f2bd3e3f",
   "metadata": {},
   "outputs": [],
   "source": [
    "ut_predicts = pd.DataFrame(undetermined_predicts)"
   ]
  },
  {
   "cell_type": "code",
   "execution_count": 37,
   "id": "e8f2e61e-5263-426a-b63b-bbc989522794",
   "metadata": {},
   "outputs": [
    {
     "data": {
      "text/plain": [
       "Debris and open burning          130160\n",
       "Infrastructure-related causes    105754\n",
       "Arson                             91756\n",
       "Erratic                           53646\n",
       "Natural                           45458\n",
       "Recreation and ceremony           30492\n",
       "Fireworks                          3887\n",
       "Firearms and explosives use         513\n",
       "dtype: int64"
      ]
     },
     "execution_count": 37,
     "metadata": {},
     "output_type": "execute_result"
    }
   ],
   "source": [
    "ut_predicts.value_counts()"
   ]
  },
  {
   "cell_type": "code",
   "execution_count": 43,
   "id": "f21a24d5-8260-41fa-b488-15229b89d2db",
   "metadata": {},
   "outputs": [
    {
     "data": {
      "text/plain": [
       "Debris and open burning          405877\n",
       "Natural                          231547\n",
       "Arson                            219102\n",
       "Infrastructure-related causes    190808\n",
       "Erratic                           85558\n",
       "Recreation and ceremony           69984\n",
       "Fireworks                         15376\n",
       "Firearms and explosives use        2423\n",
       "Name: NWCG_GENERAL_CAUSE, dtype: int64"
      ]
     },
     "execution_count": 43,
     "metadata": {},
     "output_type": "execute_result"
    }
   ],
   "source": [
    "y5_train.value_counts() + y5_test.value_counts()"
   ]
  },
  {
   "cell_type": "code",
   "execution_count": 38,
   "id": "1e6c5193-aa56-4710-a1d6-eedc8e09f28a",
   "metadata": {},
   "outputs": [],
   "source": [
    "ut_predicts.to_csv(\"undetermined_predictions.csv\", index=False)"
   ]
  },
  {
   "cell_type": "code",
   "execution_count": 27,
   "id": "5254dcdb-fd2c-4df4-9f8a-b3d35d5daf22",
   "metadata": {},
   "outputs": [
    {
     "data": {
      "image/png": "[encoded data removed]",
      "text/plain": [
       "<Figure size 576x432 with 2 Axes>"
      ]
     },
     "metadata": {
      "needs_background": "light"
     },
     "output_type": "display_data"
    }
   ],
   "source": [
    "# Make a correlation matrix \n",
    "labels = y6_test.value_counts().index\n",
    "cm = confusion_matrix(y6_test, rf6_predictions, labels=labels)\n",
    "\n",
    "plt.figure(figsize=(8, 6))\n",
    "sns.heatmap(cm, annot=True, cmap=\"Blues\", fmt=\"d\", xticklabels=labels, yticklabels=labels)\n",
    "plt.xlabel('Predicted')\n",
    "plt.ylabel('True')\n",
    "plt.title('Confusion Matrix')\n",
    "plt.show()"
   ]
  },
  {
   "cell_type": "code",
   "execution_count": 28,
   "id": "a28ad01c-d332-4c66-833f-7a875b0e8112",
   "metadata": {},
   "outputs": [
    {
     "data": {
      "text/html": [
       "<div>\n",
       "<style scoped>\n",
       "    .dataframe tbody tr th:only-of-type {\n",
       "        vertical-align: middle;\n",
       "    }\n",
       "\n",
       "    .dataframe tbody tr th {\n",
       "        vertical-align: top;\n",
       "    }\n",
       "\n",
       "    .dataframe thead th {\n",
       "        text-align: right;\n",
       "    }\n",
       "</style>\n",
       "<table border=\"1\" class=\"dataframe\">\n",
       "  <thead>\n",
       "    <tr style=\"text-align: right;\">\n",
       "      <th></th>\n",
       "      <th>precision</th>\n",
       "      <th>recall</th>\n",
       "      <th>f1-score</th>\n",
       "      <th>support</th>\n",
       "    </tr>\n",
       "  </thead>\n",
       "  <tbody>\n",
       "    <tr>\n",
       "      <th>Arson</th>\n",
       "      <td>0.817561</td>\n",
       "      <td>0.838543</td>\n",
       "      <td>0.827919</td>\n",
       "      <td>81359.000000</td>\n",
       "    </tr>\n",
       "    <tr>\n",
       "      <th>Debris and open burning</th>\n",
       "      <td>0.796718</td>\n",
       "      <td>0.665123</td>\n",
       "      <td>0.724997</td>\n",
       "      <td>81176.000000</td>\n",
       "    </tr>\n",
       "    <tr>\n",
       "      <th>Erratic</th>\n",
       "      <td>0.912563</td>\n",
       "      <td>0.965597</td>\n",
       "      <td>0.938331</td>\n",
       "      <td>81097.000000</td>\n",
       "    </tr>\n",
       "    <tr>\n",
       "      <th>Firearms and explosives use</th>\n",
       "      <td>0.998187</td>\n",
       "      <td>0.999704</td>\n",
       "      <td>0.998945</td>\n",
       "      <td>80963.000000</td>\n",
       "    </tr>\n",
       "    <tr>\n",
       "      <th>Fireworks</th>\n",
       "      <td>0.983078</td>\n",
       "      <td>0.998768</td>\n",
       "      <td>0.990861</td>\n",
       "      <td>81141.000000</td>\n",
       "    </tr>\n",
       "    <tr>\n",
       "      <th>Infrastructure-related causes</th>\n",
       "      <td>0.851815</td>\n",
       "      <td>0.858056</td>\n",
       "      <td>0.854924</td>\n",
       "      <td>81208.000000</td>\n",
       "    </tr>\n",
       "    <tr>\n",
       "      <th>Natural</th>\n",
       "      <td>0.928110</td>\n",
       "      <td>0.928681</td>\n",
       "      <td>0.928396</td>\n",
       "      <td>81199.000000</td>\n",
       "    </tr>\n",
       "    <tr>\n",
       "      <th>Recreation and ceremony</th>\n",
       "      <td>0.931263</td>\n",
       "      <td>0.983338</td>\n",
       "      <td>0.956592</td>\n",
       "      <td>81261.000000</td>\n",
       "    </tr>\n",
       "    <tr>\n",
       "      <th>accuracy</th>\n",
       "      <td>0.904673</td>\n",
       "      <td>0.904673</td>\n",
       "      <td>0.904673</td>\n",
       "      <td>0.904673</td>\n",
       "    </tr>\n",
       "    <tr>\n",
       "      <th>macro avg</th>\n",
       "      <td>0.902412</td>\n",
       "      <td>0.904726</td>\n",
       "      <td>0.902620</td>\n",
       "      <td>649404.000000</td>\n",
       "    </tr>\n",
       "    <tr>\n",
       "      <th>weighted avg</th>\n",
       "      <td>0.902353</td>\n",
       "      <td>0.904673</td>\n",
       "      <td>0.902564</td>\n",
       "      <td>649404.000000</td>\n",
       "    </tr>\n",
       "  </tbody>\n",
       "</table>\n",
       "</div>"
      ],
      "text/plain": [
       "                               precision    recall  f1-score        support\n",
       "Arson                           0.817561  0.838543  0.827919   81359.000000\n",
       "Debris and open burning         0.796718  0.665123  0.724997   81176.000000\n",
       "Erratic                         0.912563  0.965597  0.938331   81097.000000\n",
       "Firearms and explosives use     0.998187  0.999704  0.998945   80963.000000\n",
       "Fireworks                       0.983078  0.998768  0.990861   81141.000000\n",
       "Infrastructure-related causes   0.851815  0.858056  0.854924   81208.000000\n",
       "Natural                         0.928110  0.928681  0.928396   81199.000000\n",
       "Recreation and ceremony         0.931263  0.983338  0.956592   81261.000000\n",
       "accuracy                        0.904673  0.904673  0.904673       0.904673\n",
       "macro avg                       0.902412  0.904726  0.902620  649404.000000\n",
       "weighted avg                    0.902353  0.904673  0.902564  649404.000000"
      ]
     },
     "execution_count": 28,
     "metadata": {},
     "output_type": "execute_result"
    }
   ],
   "source": [
    "report6 = classification_report(y6_test, rf6_predictions, output_dict=True)\n",
    "report6_df = pd.DataFrame(report6).transpose()\n",
    "report6_df"
   ]
  },
  {
   "cell_type": "code",
   "execution_count": 29,
   "id": "74bedd4c-e439-44a6-82fa-b2edb30eda42",
   "metadata": {},
   "outputs": [
    {
     "data": {
      "text/html": [
       "<div>\n",
       "<style scoped>\n",
       "    .dataframe tbody tr th:only-of-type {\n",
       "        vertical-align: middle;\n",
       "    }\n",
       "\n",
       "    .dataframe tbody tr th {\n",
       "        vertical-align: top;\n",
       "    }\n",
       "\n",
       "    .dataframe thead th {\n",
       "        text-align: right;\n",
       "    }\n",
       "</style>\n",
       "<table border=\"1\" class=\"dataframe\">\n",
       "  <thead>\n",
       "    <tr style=\"text-align: right;\">\n",
       "      <th></th>\n",
       "      <th>importance</th>\n",
       "    </tr>\n",
       "  </thead>\n",
       "  <tbody>\n",
       "    <tr>\n",
       "      <th>DAY_OF_YEAR</th>\n",
       "      <td>0.137420</td>\n",
       "    </tr>\n",
       "    <tr>\n",
       "      <th>ELEVATION</th>\n",
       "      <td>0.133737</td>\n",
       "    </tr>\n",
       "    <tr>\n",
       "      <th>COUNTY_STATE</th>\n",
       "      <td>0.116924</td>\n",
       "    </tr>\n",
       "    <tr>\n",
       "      <th>TEMPERATURE</th>\n",
       "      <td>0.113878</td>\n",
       "    </tr>\n",
       "    <tr>\n",
       "      <th>WIND_SPEED</th>\n",
       "      <td>0.102382</td>\n",
       "    </tr>\n",
       "    <tr>\n",
       "      <th>FIRE_SIZE</th>\n",
       "      <td>0.091657</td>\n",
       "    </tr>\n",
       "    <tr>\n",
       "      <th>PRECIPITATION</th>\n",
       "      <td>0.078139</td>\n",
       "    </tr>\n",
       "    <tr>\n",
       "      <th>FIRE_YEAR</th>\n",
       "      <td>0.077994</td>\n",
       "    </tr>\n",
       "    <tr>\n",
       "      <th>STATE</th>\n",
       "      <td>0.077543</td>\n",
       "    </tr>\n",
       "    <tr>\n",
       "      <th>DAY_OF_WEEK</th>\n",
       "      <td>0.049875</td>\n",
       "    </tr>\n",
       "    <tr>\n",
       "      <th>DURATION</th>\n",
       "      <td>0.020451</td>\n",
       "    </tr>\n",
       "  </tbody>\n",
       "</table>\n",
       "</div>"
      ],
      "text/plain": [
       "               importance\n",
       "DAY_OF_YEAR      0.137420\n",
       "ELEVATION        0.133737\n",
       "COUNTY_STATE     0.116924\n",
       "TEMPERATURE      0.113878\n",
       "WIND_SPEED       0.102382\n",
       "FIRE_SIZE        0.091657\n",
       "PRECIPITATION    0.078139\n",
       "FIRE_YEAR        0.077994\n",
       "STATE            0.077543\n",
       "DAY_OF_WEEK      0.049875\n",
       "DURATION         0.020451"
      ]
     },
     "execution_count": 29,
     "metadata": {},
     "output_type": "execute_result"
    }
   ],
   "source": [
    "feature_importances6 = pd.DataFrame(\n",
    "    rf6.feature_importances_, \n",
    "    index =X6_train.columns,  \n",
    "    columns=['importance']\n",
    ").sort_values('importance', ascending=False)\n",
    "\n",
    "feature_importances6"
   ]
  },
  {
   "cell_type": "code",
   "execution_count": 31,
   "id": "262793a7-9d0f-433c-a21e-63a361e0a63f",
   "metadata": {},
   "outputs": [
    {
     "name": "stderr",
     "output_type": "stream",
     "text": [
      "<ipython-input-31-3672500cc7d7>:4: SettingWithCopyWarning: \n",
      "A value is trying to be set on a copy of a slice from a DataFrame.\n",
      "Try using .loc[row_indexer,col_indexer] = value instead\n",
      "\n",
      "See the caveats in the documentation: https://pandas.pydata.org/pandas-docs/stable/user_guide/indexing.html#returning-a-view-versus-a-copy\n",
      "  data_7['NWCG_GENERAL_CAUSE'] = data_7['NWCG_GENERAL_CAUSE'].replace({'Arson': 'Intentional Fires',\n"
     ]
    }
   ],
   "source": [
    "# Dataset 7\n",
    "\n",
    "data_7 = data_5\n",
    "data_7['NWCG_GENERAL_CAUSE'] = data_7['NWCG_GENERAL_CAUSE'].replace({'Arson': 'Intentional Fires',\n",
    "                                                                     'Debris and open burning': 'Intentional Fires'})"
   ]
  },
  {
   "cell_type": "code",
   "execution_count": 32,
   "id": "f1071c46-4006-4953-9bd3-6020a6608158",
   "metadata": {},
   "outputs": [
    {
     "data": {
      "text/plain": [
       "Intentional Fires                624979\n",
       "Natural                          231547\n",
       "Infrastructure-related causes    190808\n",
       "Erratic                           85558\n",
       "Recreation and ceremony           69984\n",
       "Fireworks                         15376\n",
       "Firearms and explosives use        2423\n",
       "Name: NWCG_GENERAL_CAUSE, dtype: int64"
      ]
     },
     "execution_count": 32,
     "metadata": {},
     "output_type": "execute_result"
    }
   ],
   "source": [
    "data_7['NWCG_GENERAL_CAUSE'].value_counts()"
   ]
  },
  {
   "cell_type": "code",
   "execution_count": 33,
   "id": "4654559d-248d-4361-a55c-45067653c478",
   "metadata": {},
   "outputs": [],
   "source": [
    "X7 = data_7.drop(\"NWCG_GENERAL_CAUSE\", axis=1)\n",
    "y7 = data_7[\"NWCG_GENERAL_CAUSE\"]\n",
    "from imblearn.over_sampling import RandomOverSampler\n",
    "ros = RandomOverSampler(random_state=0)\n",
    "X7_resampled, y7_resampled = ros.fit_resample(X7, y7)"
   ]
  },
  {
   "cell_type": "code",
   "execution_count": 34,
   "id": "94266dee-7124-40c8-95af-095379bce777",
   "metadata": {},
   "outputs": [],
   "source": [
    "\n",
    "X7_train, X7_test, y7_train, y7_test = train_test_split(X7,y7, test_size=0.2, shuffle=True, random_state=2)"
   ]
  },
  {
   "cell_type": "code",
   "execution_count": 35,
   "id": "0bb68255-70ee-4f10-a677-94dbb489147a",
   "metadata": {},
   "outputs": [
    {
     "name": "stdout",
     "output_type": "stream",
     "text": [
      "Decision Tree Accuracy Score: 0.5993855858438979, f1 Score: 0.5993855858438979\n"
     ]
    }
   ],
   "source": [
    "dt7 = DecisionTreeClassifier()\n",
    "dt7.fit(X7_train,y7_train)\n",
    "dt7_predictions = dt7.predict(X7_test)\n",
    "dt7_acc = accuracy_score(y7_test, dt7_predictions)\n",
    "dt7_f1 = f1_score(y7_test, dt7_predictions, average='micro')\n",
    "print(f\"Decision Tree Accuracy Score: {dt7_acc}, f1 Score: {dt7_f1}\")"
   ]
  },
  {
   "cell_type": "code",
   "execution_count": null,
   "id": "e42b5858-55c3-4331-adfe-9796bcef23d3",
   "metadata": {},
   "outputs": [],
   "source": [
    "# Testing a graph for Ana"
   ]
  },
  {
   "cell_type": "code",
   "execution_count": 44,
   "id": "ea7d40ac-ceb8-410f-8c34-97272927d1c8",
   "metadata": {},
   "outputs": [],
   "source": [
    "import seaborn as sns"
   ]
  },
  {
   "cell_type": "code",
   "execution_count": 55,
   "id": "602a3719-6677-444d-a1ea-3ff203b99f34",
   "metadata": {},
   "outputs": [],
   "source": [
    "# Group by FIRE_YEAR and sum the FIRE_SIZE column\n",
    "acres_burnt_per_year = model_data.groupby('FIRE_YEAR')['FIRE_SIZE'].sum().reset_index()\n",
    "\n",
    "acres_burnt_per_year.columns = ['FIRE_YEAR', 'Total Acres Burnt']\n",
    "\n",
    "# acres_burnt_per_year = acres_burnt_per_year.sort_values(by='FIRE_YEAR', ascending=True)\n",
    "\n",
    "# # Make 'FIRE_YEAR' the index of the DataFrame\n",
    "# acres_burnt_per_year.set_index('FIRE_YEAR', inplace=True)"
   ]
  },
  {
   "cell_type": "code",
   "execution_count": 51,
   "id": "fcf5c133-bb24-4798-9d3c-b561fcdc9db3",
   "metadata": {},
   "outputs": [],
   "source": [
    "# acres_burnt_per_year['Total Acres Burnt'] = acres_burnt_per_year['Total Acres Burnt'] / 1e6  # Convert from millions to regular units\n",
    "# acres_burnt_per_year['Total Acres Burnt'] = acres_burnt_per_year['Total Acres Burnt'].apply(lambda x: \"{:.3f}\".format(x))  # Format values with 3 decimal places\n"
   ]
  },
  {
   "cell_type": "code",
   "execution_count": 52,
   "id": "18ca1ba4-3704-41c3-b495-d1d4d04b496c",
   "metadata": {},
   "outputs": [
    {
     "data": {
      "text/html": [
       "<div>\n",
       "<style scoped>\n",
       "    .dataframe tbody tr th:only-of-type {\n",
       "        vertical-align: middle;\n",
       "    }\n",
       "\n",
       "    .dataframe tbody tr th {\n",
       "        vertical-align: top;\n",
       "    }\n",
       "\n",
       "    .dataframe thead th {\n",
       "        text-align: right;\n",
       "    }\n",
       "</style>\n",
       "<table border=\"1\" class=\"dataframe\">\n",
       "  <thead>\n",
       "    <tr style=\"text-align: right;\">\n",
       "      <th></th>\n",
       "      <th>FIRE_YEAR</th>\n",
       "      <th>Total Acres Burnt</th>\n",
       "    </tr>\n",
       "  </thead>\n",
       "  <tbody>\n",
       "    <tr>\n",
       "      <th>0</th>\n",
       "      <td>2000</td>\n",
       "      <td>7.013</td>\n",
       "    </tr>\n",
       "    <tr>\n",
       "      <th>1</th>\n",
       "      <td>2001</td>\n",
       "      <td>3.598</td>\n",
       "    </tr>\n",
       "    <tr>\n",
       "      <th>2</th>\n",
       "      <td>2002</td>\n",
       "      <td>4.629</td>\n",
       "    </tr>\n",
       "    <tr>\n",
       "      <th>3</th>\n",
       "      <td>2003</td>\n",
       "      <td>3.865</td>\n",
       "    </tr>\n",
       "    <tr>\n",
       "      <th>4</th>\n",
       "      <td>2004</td>\n",
       "      <td>1.643</td>\n",
       "    </tr>\n",
       "    <tr>\n",
       "      <th>5</th>\n",
       "      <td>2005</td>\n",
       "      <td>5.001</td>\n",
       "    </tr>\n",
       "    <tr>\n",
       "      <th>6</th>\n",
       "      <td>2006</td>\n",
       "      <td>9.799</td>\n",
       "    </tr>\n",
       "    <tr>\n",
       "      <th>7</th>\n",
       "      <td>2007</td>\n",
       "      <td>8.579</td>\n",
       "    </tr>\n",
       "    <tr>\n",
       "      <th>8</th>\n",
       "      <td>2008</td>\n",
       "      <td>5.326</td>\n",
       "    </tr>\n",
       "    <tr>\n",
       "      <th>9</th>\n",
       "      <td>2009</td>\n",
       "      <td>3.124</td>\n",
       "    </tr>\n",
       "    <tr>\n",
       "      <th>10</th>\n",
       "      <td>2010</td>\n",
       "      <td>2.361</td>\n",
       "    </tr>\n",
       "    <tr>\n",
       "      <th>11</th>\n",
       "      <td>2011</td>\n",
       "      <td>9.338</td>\n",
       "    </tr>\n",
       "    <tr>\n",
       "      <th>12</th>\n",
       "      <td>2012</td>\n",
       "      <td>9.072</td>\n",
       "    </tr>\n",
       "    <tr>\n",
       "      <th>13</th>\n",
       "      <td>2013</td>\n",
       "      <td>3.170</td>\n",
       "    </tr>\n",
       "    <tr>\n",
       "      <th>14</th>\n",
       "      <td>2014</td>\n",
       "      <td>3.443</td>\n",
       "    </tr>\n",
       "    <tr>\n",
       "      <th>15</th>\n",
       "      <td>2015</td>\n",
       "      <td>5.081</td>\n",
       "    </tr>\n",
       "    <tr>\n",
       "      <th>16</th>\n",
       "      <td>2016</td>\n",
       "      <td>4.841</td>\n",
       "    </tr>\n",
       "    <tr>\n",
       "      <th>17</th>\n",
       "      <td>2017</td>\n",
       "      <td>9.586</td>\n",
       "    </tr>\n",
       "    <tr>\n",
       "      <th>18</th>\n",
       "      <td>2018</td>\n",
       "      <td>7.806</td>\n",
       "    </tr>\n",
       "    <tr>\n",
       "      <th>19</th>\n",
       "      <td>2019</td>\n",
       "      <td>2.218</td>\n",
       "    </tr>\n",
       "    <tr>\n",
       "      <th>20</th>\n",
       "      <td>2020</td>\n",
       "      <td>10.308</td>\n",
       "    </tr>\n",
       "  </tbody>\n",
       "</table>\n",
       "</div>"
      ],
      "text/plain": [
       "    FIRE_YEAR Total Acres Burnt\n",
       "0        2000             7.013\n",
       "1        2001             3.598\n",
       "2        2002             4.629\n",
       "3        2003             3.865\n",
       "4        2004             1.643\n",
       "5        2005             5.001\n",
       "6        2006             9.799\n",
       "7        2007             8.579\n",
       "8        2008             5.326\n",
       "9        2009             3.124\n",
       "10       2010             2.361\n",
       "11       2011             9.338\n",
       "12       2012             9.072\n",
       "13       2013             3.170\n",
       "14       2014             3.443\n",
       "15       2015             5.081\n",
       "16       2016             4.841\n",
       "17       2017             9.586\n",
       "18       2018             7.806\n",
       "19       2019             2.218\n",
       "20       2020            10.308"
      ]
     },
     "execution_count": 52,
     "metadata": {},
     "output_type": "execute_result"
    }
   ],
   "source": [
    "acres_burnt_per_year"
   ]
  },
  {
   "cell_type": "code",
   "execution_count": 62,
   "id": "75590e8d-e323-4c56-89e0-3fee318ea465",
   "metadata": {},
   "outputs": [
    {
     "ename": "NameError",
     "evalue": "name 'ax' is not defined",
     "output_type": "error",
     "traceback": [
      "\u001b[0;31m---------------------------------------------------------------------------\u001b[0m",
      "\u001b[0;31mNameError\u001b[0m                                 Traceback (most recent call last)",
      "\u001b[0;32m<ipython-input-62-fa71af53f019>\u001b[0m in \u001b[0;36m<module>\u001b[0;34m\u001b[0m\n\u001b[1;32m      7\u001b[0m \u001b[0mplt\u001b[0m\u001b[0;34m.\u001b[0m\u001b[0mylabel\u001b[0m\u001b[0;34m(\u001b[0m\u001b[0;34m'Total Acres Burnt'\u001b[0m\u001b[0;34m)\u001b[0m\u001b[0;34m\u001b[0m\u001b[0;34m\u001b[0m\u001b[0m\n\u001b[1;32m      8\u001b[0m \u001b[0mplt\u001b[0m\u001b[0;34m.\u001b[0m\u001b[0mtitle\u001b[0m\u001b[0;34m(\u001b[0m\u001b[0;34m'Total Acres Burnt per Year'\u001b[0m\u001b[0;34m)\u001b[0m\u001b[0;34m\u001b[0m\u001b[0;34m\u001b[0m\u001b[0m\n\u001b[0;32m----> 9\u001b[0;31m \u001b[0max\u001b[0m\u001b[0;34m.\u001b[0m\u001b[0mxaxis\u001b[0m\u001b[0;34m.\u001b[0m\u001b[0mset_major_formatter\u001b[0m\u001b[0;34m(\u001b[0m\u001b[0mticker\u001b[0m\u001b[0;34m.\u001b[0m\u001b[0mFuncFormatter\u001b[0m\u001b[0;34m(\u001b[0m\u001b[0;32mlambda\u001b[0m \u001b[0mx\u001b[0m\u001b[0;34m,\u001b[0m \u001b[0mpos\u001b[0m\u001b[0;34m:\u001b[0m \u001b[0;34m'{:,.2f}'\u001b[0m\u001b[0;34m.\u001b[0m\u001b[0mformat\u001b[0m\u001b[0;34m(\u001b[0m\u001b[0mx\u001b[0m\u001b[0;34m/\u001b[0m\u001b[0;36m1000\u001b[0m\u001b[0;34m)\u001b[0m \u001b[0;34m+\u001b[0m \u001b[0;34m'K'\u001b[0m\u001b[0;34m)\u001b[0m\u001b[0;34m)\u001b[0m\u001b[0;34m\u001b[0m\u001b[0;34m\u001b[0m\u001b[0m\n\u001b[0m\u001b[1;32m     10\u001b[0m \u001b[0;34m\u001b[0m\u001b[0m\n\u001b[1;32m     11\u001b[0m \u001b[0;31m# Manually setting the limits of the y-axis\u001b[0m\u001b[0;34m\u001b[0m\u001b[0;34m\u001b[0m\u001b[0;34m\u001b[0m\u001b[0m\n",
      "\u001b[0;31mNameError\u001b[0m: name 'ax' is not defined"
     ]
    },
    {
     "data": {
      "image/png": "[encoded data removed]",
      "text/plain": [
       "<Figure size 432x288 with 1 Axes>"
      ]
     },
     "metadata": {
      "needs_background": "light"
     },
     "output_type": "display_data"
    }
   ],
   "source": [
    "# Plotting the time series graph\n",
    "#plt.figure(figsize=(20, 8))\n",
    "plt.plot(acres_burnt_per_year['FIRE_YEAR'], acres_burnt_per_year['Total Acres Burnt'])\n",
    "\n",
    "# Adding labels and title\n",
    "plt.xlabel('Year')\n",
    "plt.ylabel('Total Acres Burnt')\n",
    "plt.title('Total Acres Burnt per Year')\n",
    "ax.xaxis.set_major_formatter(ticker.FuncFormatter(lambda x, pos: '{:,.2f}'.format(x/1000) + 'K'))\n",
    "\n",
    "# Manually setting the limits of the y-axis\n",
    "#plt.ylim(1, 11)\n",
    "\n",
    "# Show plot\n",
    "plt.grid(False)\n",
    "plt.show()"
   ]
  },
  {
   "cell_type": "code",
   "execution_count": null,
   "id": "9844c115-f37c-4e90-be70-d21aef82b4f3",
   "metadata": {},
   "outputs": [],
   "source": []
  }
 ],
 "metadata": {
  "kernelspec": {
   "display_name": "Python 3",
   "language": "python",
   "name": "python3"
  },
  "language_info": {
   "codemirror_mode": {
    "name": "ipython",
    "version": 3
   },
   "file_extension": ".py",
   "mimetype": "text/x-python",
   "name": "python",
   "nbconvert_exporter": "python",
   "pygments_lexer": "ipython3",
   "version": "3.8.8"
  }
 },
 "nbformat": 4,
 "nbformat_minor": 5
}
