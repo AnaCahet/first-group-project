{
 "cells": [
  {
   "cell_type": "code",
   "execution_count": 1,
   "id": "2d543b02-6a17-407b-a26a-93c8ff91b123",
   "metadata": {},
   "outputs": [],
   "source": [
    "import pandas as pd\n",
    "from datetime import datetime as dt"
   ]
  },
  {
   "cell_type": "code",
   "execution_count": 2,
   "id": "bccac921-2c3f-4b9e-a505-7d6a27c7509d",
   "metadata": {},
   "outputs": [],
   "source": [
    "us_wildfires = pd.read_csv('us_wildfires_filled.csv')"
   ]
  },
  {
   "cell_type": "code",
   "execution_count": 3,
   "id": "1a90ee44-c601-4b92-bf63-11e028aa5031",
   "metadata": {},
   "outputs": [],
   "source": [
    "us_wildfires['DISCOVERY_DATE'] = pd.to_datetime(us_wildfires[\"DISCOVERY_DATE\"], format = \"%Y-%m-%d\")\n",
    "us_wildfires['CONT_DATE'] = pd.to_datetime(us_wildfires[\"CONT_DATE\"], format = \"%Y-%m-%d\")"
   ]
  },
  {
   "cell_type": "code",
   "execution_count": 4,
   "id": "d103de0e-82c9-49fb-8ad4-0979512c6bae",
   "metadata": {},
   "outputs": [
    {
     "data": {
      "text/plain": [
       "OBJECTID                     0\n",
       "NWCG_REPORTING_AGENCY        0\n",
       "NWCG_REPORTING_UNIT_ID       0\n",
       "FIRE_NAME                    0\n",
       "FIRE_YEAR                    0\n",
       "DISCOVERY_DATE               0\n",
       "NWCG_CAUSE_CLASSIFICATION    0\n",
       "NWCG_GENERAL_CAUSE           0\n",
       "NWCG_CAUSE_AGE_CATEGORY      0\n",
       "CONT_DATE                    0\n",
       "FIRE_SIZE                    0\n",
       "FIRE_SIZE_CLASS              0\n",
       "LATITUDE                     0\n",
       "LONGITUDE                    0\n",
       "OWNER_DESCR                  0\n",
       "DURATION                     0\n",
       "COUNTY                       0\n",
       "STATE                        0\n",
       "PRECIPITATION                0\n",
       "TEMPERATURE                  0\n",
       "WIND_SPEED                   0\n",
       "ELEVATION                    0\n",
       "dtype: int64"
      ]
     },
     "execution_count": 4,
     "metadata": {},
     "output_type": "execute_result"
    }
   ],
   "source": [
    "us_wildfires.isna().sum()"
   ]
  },
  {
   "cell_type": "code",
   "execution_count": 5,
   "id": "95c3ebee-0e62-43cd-ab49-18b8731abfe9",
   "metadata": {},
   "outputs": [],
   "source": [
    "to_drop = ['OBJECTID', 'LATITUDE', 'LONGITUDE', 'FIRE_NAME']\n",
    "model_data = us_wildfires.drop(to_drop, axis=1)"
   ]
  },
  {
   "cell_type": "code",
   "execution_count": 6,
   "id": "1d646723-723e-407e-bbf0-318e0ed9fd03",
   "metadata": {},
   "outputs": [],
   "source": [
    "model_data['DAY_OF_WEEK'] = model_data['DISCOVERY_DATE'].dt.dayofweek\n",
    "model_data['DAY_OF_YEAR'] = model_data['DISCOVERY_DATE'].dt.dayofyear"
   ]
  },
  {
   "cell_type": "code",
   "execution_count": 7,
   "id": "20914776-b297-4a10-a673-3e2efbdea190",
   "metadata": {},
   "outputs": [],
   "source": [
    "date_drop = ['DISCOVERY_DATE', 'CONT_DATE']\n",
    "model_data = model_data.drop(model_data[date_drop], axis=1)\n",
    "\n",
    "more_drops = ['NWCG_REPORTING_UNIT_ID', 'FIRE_SIZE_CLASS',\n",
    "             'NWCG_CAUSE_CLASSIFICATION', 'NWCG_CAUSE_AGE_CATEGORY']\n",
    "model_data = model_data.drop(more_drops, axis=1)\n",
    "\n",
    "model_data['COUNTY_STATE'] = model_data['COUNTY'] + str(\" \") + model_data['STATE']"
   ]
  },
  {
   "cell_type": "code",
   "execution_count": 8,
   "id": "f5650c10-50df-45f8-bbfb-4b8118b3d23b",
   "metadata": {},
   "outputs": [
    {
     "data": {
      "text/html": [
       "<div>\n",
       "<style scoped>\n",
       "    .dataframe tbody tr th:only-of-type {\n",
       "        vertical-align: middle;\n",
       "    }\n",
       "\n",
       "    .dataframe tbody tr th {\n",
       "        vertical-align: top;\n",
       "    }\n",
       "\n",
       "    .dataframe thead th {\n",
       "        text-align: right;\n",
       "    }\n",
       "</style>\n",
       "<table border=\"1\" class=\"dataframe\">\n",
       "  <thead>\n",
       "    <tr style=\"text-align: right;\">\n",
       "      <th></th>\n",
       "      <th>COUNTY_STATE</th>\n",
       "      <th>COUNTY</th>\n",
       "      <th>STATE</th>\n",
       "    </tr>\n",
       "  </thead>\n",
       "  <tbody>\n",
       "    <tr>\n",
       "      <th>0</th>\n",
       "      <td>Plumas County CA</td>\n",
       "      <td>Plumas County</td>\n",
       "      <td>CA</td>\n",
       "    </tr>\n",
       "    <tr>\n",
       "      <th>1</th>\n",
       "      <td>El Dorado County CA</td>\n",
       "      <td>El Dorado County</td>\n",
       "      <td>CA</td>\n",
       "    </tr>\n",
       "    <tr>\n",
       "      <th>2</th>\n",
       "      <td>Placer County CA</td>\n",
       "      <td>Placer County</td>\n",
       "      <td>CA</td>\n",
       "    </tr>\n",
       "    <tr>\n",
       "      <th>3</th>\n",
       "      <td>Alpine County CA</td>\n",
       "      <td>Alpine County</td>\n",
       "      <td>CA</td>\n",
       "    </tr>\n",
       "    <tr>\n",
       "      <th>4</th>\n",
       "      <td>Alpine County CA</td>\n",
       "      <td>Alpine County</td>\n",
       "      <td>CA</td>\n",
       "    </tr>\n",
       "  </tbody>\n",
       "</table>\n",
       "</div>"
      ],
      "text/plain": [
       "          COUNTY_STATE            COUNTY STATE\n",
       "0     Plumas County CA     Plumas County    CA\n",
       "1  El Dorado County CA  El Dorado County    CA\n",
       "2     Placer County CA     Placer County    CA\n",
       "3     Alpine County CA     Alpine County    CA\n",
       "4     Alpine County CA     Alpine County    CA"
      ]
     },
     "execution_count": 8,
     "metadata": {},
     "output_type": "execute_result"
    }
   ],
   "source": [
    "model_data[['COUNTY_STATE', 'COUNTY', 'STATE']].head()"
   ]
  },
  {
   "cell_type": "code",
   "execution_count": 9,
   "id": "12e1983b-abd5-49a0-b9bf-8380535bfda4",
   "metadata": {},
   "outputs": [],
   "source": [
    "model_data = model_data.drop('COUNTY', axis=1)"
   ]
  },
  {
   "cell_type": "code",
   "execution_count": 10,
   "id": "884a2be7-d11e-4708-acc4-ad0d59985671",
   "metadata": {},
   "outputs": [],
   "source": [
    "model_data['COUNTY_STATE'] = model_data['COUNTY_STATE'].astype('category')\n",
    "model_data['COUNTY_STATE'] = model_data['COUNTY_STATE'].cat.codes.astype(int)\n",
    "\n",
    "model_data['STATE'] = model_data['STATE'].astype('category')\n",
    "model_data['STATE'] = model_data['STATE'].cat.codes.astype(int)\n",
    "\n",
    "model_data['NWCG_REPORTING_AGENCY'] = model_data['NWCG_REPORTING_AGENCY'].astype('category')\n",
    "model_data['NWCG_REPORTING_AGENCY'] = model_data['NWCG_REPORTING_AGENCY'].cat.codes.astype(int)\n",
    "\n",
    "model_data['OWNER_DESCR'] = model_data['OWNER_DESCR'].astype('category')\n",
    "model_data['OWNER_DESCR'] = model_data['OWNER_DESCR'].cat.codes.astype(int)"
   ]
  },
  {
   "cell_type": "code",
   "execution_count": 11,
   "id": "c651b63b-8668-4b76-b207-6e9b339aed97",
   "metadata": {},
   "outputs": [],
   "source": [
    "# Random Forest / Grid Search "
   ]
  },
  {
   "cell_type": "code",
   "execution_count": 12,
   "id": "6552fe3f-68b2-40e5-97e1-fc5e87141f01",
   "metadata": {},
   "outputs": [],
   "source": [
    "from sklearn import tree\n",
    "\n",
    "from sklearn.model_selection import train_test_split\n",
    "from sklearn.tree import DecisionTreeClassifier\n",
    "from sklearn.metrics import accuracy_score\n",
    "from sklearn.ensemble import RandomForestClassifier\n",
    "from sklearn.metrics import classification_report\n",
    "from sklearn.preprocessing import StandardScaler\n",
    "\n",
    "from sklearn.metrics import confusion_matrix\n",
    "import matplotlib.pyplot as plt\n",
    "import seaborn as sns\n",
    "from sklearn.metrics import f1_score\n",
    "#from imblearn.under_sampling import RandomUnderSampler\n",
    "import time"
   ]
  },
  {
   "cell_type": "code",
   "execution_count": 13,
   "id": "dc18753a-1b51-4c75-86a4-f22571c7b6bc",
   "metadata": {},
   "outputs": [],
   "source": [
    "model_data['NWCG_GENERAL_CAUSE'] = model_data['NWCG_GENERAL_CAUSE'].replace({'Other causes': 'Undetermined',\n",
    "                                                                             'Undetermined': 'Undetermined'})"
   ]
  },
  {
   "cell_type": "code",
   "execution_count": 14,
   "id": "0ef82e56-e1b1-4cf1-9c97-13e4efc7e44e",
   "metadata": {},
   "outputs": [
    {
     "name": "stderr",
     "output_type": "stream",
     "text": [
      "<ipython-input-14-2362b542aa21>:7: SettingWithCopyWarning: \n",
      "A value is trying to be set on a copy of a slice from a DataFrame.\n",
      "Try using .loc[row_indexer,col_indexer] = value instead\n",
      "\n",
      "See the caveats in the documentation: https://pandas.pydata.org/pandas-docs/stable/user_guide/indexing.html#returning-a-view-versus-a-copy\n",
      "  data_5['NWCG_GENERAL_CAUSE'] = data_5['NWCG_GENERAL_CAUSE'].replace({'Railroad operations and maintenance': 'Infrastructure-related causes',\n",
      "<ipython-input-14-2362b542aa21>:10: SettingWithCopyWarning: \n",
      "A value is trying to be set on a copy of a slice from a DataFrame.\n",
      "Try using .loc[row_indexer,col_indexer] = value instead\n",
      "\n",
      "See the caveats in the documentation: https://pandas.pydata.org/pandas-docs/stable/user_guide/indexing.html#returning-a-view-versus-a-copy\n",
      "  data_5['NWCG_GENERAL_CAUSE'] = data_5['NWCG_GENERAL_CAUSE'].replace({'Smoking': 'Erratic',\n"
     ]
    }
   ],
   "source": [
    "# Dataset 5 - above but with 'eratic' category of minor & smoking\n",
    "\n",
    "data_2 = model_data.drop(['OWNER_DESCR','NWCG_REPORTING_AGENCY'], axis=1)\n",
    "data_5 = data_2[data_2['NWCG_GENERAL_CAUSE']!= 'Undetermined']\n",
    "\n",
    "\n",
    "data_5['NWCG_GENERAL_CAUSE'] = data_5['NWCG_GENERAL_CAUSE'].replace({'Railroad operations and maintenance': 'Infrastructure-related causes',\n",
    "                                                                          'Power supply': 'Infrastructure-related causes',\n",
    "                                                                          'Equipment and vehicle use': 'Infrastructure-related causes'})\n",
    "data_5['NWCG_GENERAL_CAUSE'] = data_5['NWCG_GENERAL_CAUSE'].replace({'Smoking': 'Erratic',\n",
    "                                                                     'Misuse of fire by a minor': 'Erratic'})\n"
   ]
  },
  {
   "cell_type": "code",
   "execution_count": 15,
   "id": "dea3103d-94bf-49eb-a508-52c3050bcca2",
   "metadata": {},
   "outputs": [],
   "source": [
    "X5 = data_5.drop(\"NWCG_GENERAL_CAUSE\", axis=1)\n",
    "y5 = data_5[\"NWCG_GENERAL_CAUSE\"]\n"
   ]
  },
  {
   "cell_type": "code",
   "execution_count": 16,
   "id": "5f7ed85c-e84f-4d70-9844-b398f902dba5",
   "metadata": {},
   "outputs": [],
   "source": [
    "# Dataset 6 - dataset 5 but oversampled \n",
    "\n",
    "from imblearn.over_sampling import RandomOverSampler\n",
    "ros = RandomOverSampler(random_state=0)\n",
    "X5_resampled, y5_resampled = ros.fit_resample(X5, y5)"
   ]
  },
  {
   "cell_type": "code",
   "execution_count": 17,
   "id": "431d5893-b4d8-4054-8609-b040de0dffca",
   "metadata": {},
   "outputs": [],
   "source": [
    "X6_train, X6_test, y6_train, y6_test = train_test_split(X5_resampled,y5_resampled, test_size=0.2, shuffle=True, random_state=2)"
   ]
  },
  {
   "cell_type": "code",
   "execution_count": 39,
   "id": "eda46915-b5af-472e-9483-8fec8315db00",
   "metadata": {},
   "outputs": [],
   "source": [
    "# param_grid = { \n",
    "#     'n_estimators': [100, 200], # try lower n_estimators \n",
    "#     'max_features': ['auto', 'sqrt', 'log2'],\n",
    "#     'max_depth' : [4,5,6,7,8],\n",
    "#     'criterion' :['gini', 'entropy'] #remove this\n",
    "# }"
   ]
  },
  {
   "cell_type": "code",
   "execution_count": 18,
   "id": "18127c8e-a690-4fa3-b621-6823245d6e56",
   "metadata": {},
   "outputs": [],
   "source": [
    "param_grid = {'max_features': [\"auto\", \"sqrt\", \"log2\"]}"
   ]
  },
  {
   "cell_type": "code",
   "execution_count": 19,
   "id": "6b07f922-1003-4d15-9d31-bf4fe1bdc70c",
   "metadata": {},
   "outputs": [
    {
     "name": "stderr",
     "output_type": "stream",
     "text": [
      "/opt/anaconda3/lib/python3.8/site-packages/sklearn/model_selection/_validation.py:425: FitFailedWarning: \n",
      "300 fits failed out of a total of 900.\n",
      "The score on these train-test partitions for these parameters will be set to nan.\n",
      "If these failures are not expected, you can try to debug them by setting error_score='raise'.\n",
      "\n",
      "Below are more details about the failures:\n",
      "--------------------------------------------------------------------------------\n",
      "300 fits failed with the following error:\n",
      "Traceback (most recent call last):\n",
      "  File \"/opt/anaconda3/lib/python3.8/site-packages/sklearn/model_selection/_validation.py\", line 729, in _fit_and_score\n",
      "    estimator.fit(X_train, y_train, **fit_params)\n",
      "  File \"/opt/anaconda3/lib/python3.8/site-packages/sklearn/base.py\", line 1145, in wrapper\n",
      "    estimator._validate_params()\n",
      "  File \"/opt/anaconda3/lib/python3.8/site-packages/sklearn/base.py\", line 638, in _validate_params\n",
      "    validate_parameter_constraints(\n",
      "  File \"/opt/anaconda3/lib/python3.8/site-packages/sklearn/utils/_param_validation.py\", line 96, in validate_parameter_constraints\n",
      "    raise InvalidParameterError(\n",
      "sklearn.utils._param_validation.InvalidParameterError: The 'max_features' parameter of RandomForestClassifier must be an int in the range [1, inf), a float in the range (0.0, 1.0], a str among {'sqrt', 'log2'} or None. Got 'auto' instead.\n",
      "\n",
      "  warnings.warn(some_fits_failed_message, FitFailedWarning)\n",
      "/opt/anaconda3/lib/python3.8/site-packages/sklearn/model_selection/_search.py:979: UserWarning: One or more of the test scores are non-finite: [       nan        nan        nan        nan        nan        nan\n",
      "        nan        nan        nan        nan        nan        nan\n",
      " 0.32882816 0.35368062 0.36859084 0.38128674 0.33217393 0.35933465\n",
      " 0.36936733 0.37716025 0.34036762 0.35891426 0.3694678  0.37681994\n",
      " 0.3267451  0.35357821 0.37456326 0.37873054 0.33514782 0.36412789\n",
      " 0.3761628  0.38172021 0.33042425 0.35925188 0.37132182 0.38416053\n",
      "        nan        nan        nan        nan        nan        nan\n",
      "        nan        nan        nan        nan        nan        nan\n",
      " 0.33354712 0.36412905 0.38477032 0.38537125 0.33257392 0.36998905\n",
      " 0.37808649 0.38947964 0.34034721 0.36572937 0.38023385 0.39283927\n",
      " 0.33077804 0.36812503 0.38180029 0.38517146 0.33888586 0.36113861\n",
      " 0.37952358 0.38740043 0.33794423 0.36643656 0.37989777 0.39352682\n",
      "        nan        nan        nan        nan        nan        nan\n",
      "        nan        nan        nan        nan        nan        nan\n",
      " 0.32181904 0.35992404 0.37971644 0.39166204 0.34025175 0.36690891\n",
      " 0.37659589 0.39134944 0.33335349 0.3676315  0.38172599 0.39427405\n",
      " 0.33259548 0.36299532 0.37877173 0.38951852 0.33473552 0.36737126\n",
      " 0.38090022 0.39118313 0.33396982 0.36699784 0.37926372 0.39451658\n",
      "        nan        nan        nan        nan        nan        nan\n",
      "        nan        nan        nan        nan        nan        nan\n",
      " 0.32524064 0.36127066 0.37775041 0.39330932 0.33711848 0.36250949\n",
      " 0.38073931 0.39290548 0.34140434 0.36626294 0.38005868 0.39168321\n",
      " 0.32865532 0.36271429 0.3788826  0.38795825 0.33227095 0.36557615\n",
      " 0.38383831 0.39094868 0.34282411 0.3643481  0.38140069 0.39241503\n",
      "        nan        nan        nan        nan        nan        nan\n",
      "        nan        nan        nan        nan        nan        nan\n",
      " 0.32216243 0.36106586 0.38055337 0.38747627 0.33154951 0.3634927\n",
      " 0.38215985 0.39093868 0.33144442 0.36880335 0.38415129 0.39328121\n",
      " 0.32222057 0.36454636 0.37883217 0.39235536 0.33786531 0.36606391\n",
      " 0.38217563 0.39160082 0.33451031 0.36822281 0.38648151 0.39191765]\n",
      "  warnings.warn(\n"
     ]
    },
    {
     "data": {
      "text/html": [
       "<style>#sk-container-id-1 {color: black;}#sk-container-id-1 pre{padding: 0;}#sk-container-id-1 div.sk-toggleable {background-color: white;}#sk-container-id-1 label.sk-toggleable__label {cursor: pointer;display: block;width: 100%;margin-bottom: 0;padding: 0.3em;box-sizing: border-box;text-align: center;}#sk-container-id-1 label.sk-toggleable__label-arrow:before {content: \"▸\";float: left;margin-right: 0.25em;color: #696969;}#sk-container-id-1 label.sk-toggleable__label-arrow:hover:before {color: black;}#sk-container-id-1 div.sk-estimator:hover label.sk-toggleable__label-arrow:before {color: black;}#sk-container-id-1 div.sk-toggleable__content {max-height: 0;max-width: 0;overflow: hidden;text-align: left;background-color: #f0f8ff;}#sk-container-id-1 div.sk-toggleable__content pre {margin: 0.2em;color: black;border-radius: 0.25em;background-color: #f0f8ff;}#sk-container-id-1 input.sk-toggleable__control:checked~div.sk-toggleable__content {max-height: 200px;max-width: 100%;overflow: auto;}#sk-container-id-1 input.sk-toggleable__control:checked~label.sk-toggleable__label-arrow:before {content: \"▾\";}#sk-container-id-1 div.sk-estimator input.sk-toggleable__control:checked~label.sk-toggleable__label {background-color: #d4ebff;}#sk-container-id-1 div.sk-label input.sk-toggleable__control:checked~label.sk-toggleable__label {background-color: #d4ebff;}#sk-container-id-1 input.sk-hidden--visually {border: 0;clip: rect(1px 1px 1px 1px);clip: rect(1px, 1px, 1px, 1px);height: 1px;margin: -1px;overflow: hidden;padding: 0;position: absolute;width: 1px;}#sk-container-id-1 div.sk-estimator {font-family: monospace;background-color: #f0f8ff;border: 1px dotted black;border-radius: 0.25em;box-sizing: border-box;margin-bottom: 0.5em;}#sk-container-id-1 div.sk-estimator:hover {background-color: #d4ebff;}#sk-container-id-1 div.sk-parallel-item::after {content: \"\";width: 100%;border-bottom: 1px solid gray;flex-grow: 1;}#sk-container-id-1 div.sk-label:hover label.sk-toggleable__label {background-color: #d4ebff;}#sk-container-id-1 div.sk-serial::before {content: \"\";position: absolute;border-left: 1px solid gray;box-sizing: border-box;top: 0;bottom: 0;left: 50%;z-index: 0;}#sk-container-id-1 div.sk-serial {display: flex;flex-direction: column;align-items: center;background-color: white;padding-right: 0.2em;padding-left: 0.2em;position: relative;}#sk-container-id-1 div.sk-item {position: relative;z-index: 1;}#sk-container-id-1 div.sk-parallel {display: flex;align-items: stretch;justify-content: center;background-color: white;position: relative;}#sk-container-id-1 div.sk-item::before, #sk-container-id-1 div.sk-parallel-item::before {content: \"\";position: absolute;border-left: 1px solid gray;box-sizing: border-box;top: 0;bottom: 0;left: 50%;z-index: -1;}#sk-container-id-1 div.sk-parallel-item {display: flex;flex-direction: column;z-index: 1;position: relative;background-color: white;}#sk-container-id-1 div.sk-parallel-item:first-child::after {align-self: flex-end;width: 50%;}#sk-container-id-1 div.sk-parallel-item:last-child::after {align-self: flex-start;width: 50%;}#sk-container-id-1 div.sk-parallel-item:only-child::after {width: 0;}#sk-container-id-1 div.sk-dashed-wrapped {border: 1px dashed gray;margin: 0 0.4em 0.5em 0.4em;box-sizing: border-box;padding-bottom: 0.4em;background-color: white;}#sk-container-id-1 div.sk-label label {font-family: monospace;font-weight: bold;display: inline-block;line-height: 1.2em;}#sk-container-id-1 div.sk-label-container {text-align: center;}#sk-container-id-1 div.sk-container {/* jupyter's `normalize.less` sets `[hidden] { display: none; }` but bootstrap.min.css set `[hidden] { display: none !important; }` so we also need the `!important` here to be able to override the default hidden behavior on the sphinx rendered scikit-learn.org. See: https://github.com/scikit-learn/scikit-learn/issues/21755 */display: inline-block !important;position: relative;}#sk-container-id-1 div.sk-text-repr-fallback {display: none;}</style><div id=\"sk-container-id-1\" class=\"sk-top-container\"><div class=\"sk-text-repr-fallback\"><pre>GridSearchCV(cv=5, estimator=RandomForestClassifier(),\n",
       "             param_grid={&#x27;max_depth&#x27;: [4, 6, 8, 10, 20],\n",
       "                         &#x27;max_features&#x27;: [&#x27;auto&#x27;, &#x27;sqrt&#x27;, &#x27;log2&#x27;],\n",
       "                         &#x27;max_samples&#x27;: [100],\n",
       "                         &#x27;min_samples_split&#x27;: range(2, 8, 2),\n",
       "                         &#x27;n_estimators&#x27;: range(10, 50, 10)})</pre><b>In a Jupyter environment, please rerun this cell to show the HTML representation or trust the notebook. <br />On GitHub, the HTML representation is unable to render, please try loading this page with nbviewer.org.</b></div><div class=\"sk-container\" hidden><div class=\"sk-item sk-dashed-wrapped\"><div class=\"sk-label-container\"><div class=\"sk-label sk-toggleable\"><input class=\"sk-toggleable__control sk-hidden--visually\" id=\"sk-estimator-id-1\" type=\"checkbox\" ><label for=\"sk-estimator-id-1\" class=\"sk-toggleable__label sk-toggleable__label-arrow\">GridSearchCV</label><div class=\"sk-toggleable__content\"><pre>GridSearchCV(cv=5, estimator=RandomForestClassifier(),\n",
       "             param_grid={&#x27;max_depth&#x27;: [4, 6, 8, 10, 20],\n",
       "                         &#x27;max_features&#x27;: [&#x27;auto&#x27;, &#x27;sqrt&#x27;, &#x27;log2&#x27;],\n",
       "                         &#x27;max_samples&#x27;: [100],\n",
       "                         &#x27;min_samples_split&#x27;: range(2, 8, 2),\n",
       "                         &#x27;n_estimators&#x27;: range(10, 50, 10)})</pre></div></div></div><div class=\"sk-parallel\"><div class=\"sk-parallel-item\"><div class=\"sk-item\"><div class=\"sk-label-container\"><div class=\"sk-label sk-toggleable\"><input class=\"sk-toggleable__control sk-hidden--visually\" id=\"sk-estimator-id-2\" type=\"checkbox\" ><label for=\"sk-estimator-id-2\" class=\"sk-toggleable__label sk-toggleable__label-arrow\">estimator: RandomForestClassifier</label><div class=\"sk-toggleable__content\"><pre>RandomForestClassifier()</pre></div></div></div><div class=\"sk-serial\"><div class=\"sk-item\"><div class=\"sk-estimator sk-toggleable\"><input class=\"sk-toggleable__control sk-hidden--visually\" id=\"sk-estimator-id-3\" type=\"checkbox\" ><label for=\"sk-estimator-id-3\" class=\"sk-toggleable__label sk-toggleable__label-arrow\">RandomForestClassifier</label><div class=\"sk-toggleable__content\"><pre>RandomForestClassifier()</pre></div></div></div></div></div></div></div></div></div></div>"
      ],
      "text/plain": [
       "GridSearchCV(cv=5, estimator=RandomForestClassifier(),\n",
       "             param_grid={'max_depth': [4, 6, 8, 10, 20],\n",
       "                         'max_features': ['auto', 'sqrt', 'log2'],\n",
       "                         'max_samples': [100],\n",
       "                         'min_samples_split': range(2, 8, 2),\n",
       "                         'n_estimators': range(10, 50, 10)})"
      ]
     },
     "execution_count": 19,
     "metadata": {},
     "output_type": "execute_result"
    }
   ],
   "source": [
    "from sklearn.model_selection import cross_val_score\n",
    "from sklearn.model_selection import GridSearchCV\n",
    "\n",
    "rf6 = RandomForestClassifier()\n",
    "CV_rfc = GridSearchCV(estimator=rf6, param_grid=param_grid, cv= 5)\n",
    "CV_rfc.fit(X6_train, y6_train)"
   ]
  },
  {
   "cell_type": "code",
   "execution_count": 20,
   "id": "fe12b81a-26e4-480f-9ae8-dc2106be282c",
   "metadata": {},
   "outputs": [
    {
     "data": {
      "text/plain": [
       "{'max_depth': 8,\n",
       " 'max_features': 'log2',\n",
       " 'max_samples': 100,\n",
       " 'min_samples_split': 6,\n",
       " 'n_estimators': 40}"
      ]
     },
     "execution_count": 20,
     "metadata": {},
     "output_type": "execute_result"
    }
   ],
   "source": [
    "CV_rfc.best_params_"
   ]
  },
  {
   "cell_type": "code",
   "execution_count": 25,
   "id": "29b1382a-1ed0-48c3-a57e-19100450dd6d",
   "metadata": {},
   "outputs": [
    {
     "name": "stdout",
     "output_type": "stream",
     "text": [
      "--- 1909.87 seconds ---\n"
     ]
    }
   ],
   "source": [
    "start_time = time.time()\n",
    "\n",
    "rf7 = RandomForestClassifier(max_features='log2',\n",
    "                             min_samples_split=6)\n",
    "rf7.fit(X6_train, y6_train)\n",
    "rf7_predictions = rf7.predict(X6_test)\n",
    "rf7_acc = accuracy_score(y6_test, rf6_predictions)\n",
    "rf7_f1 = f1_score(y6_test, rf6_predictions, average='weighted')\n",
    "\n",
    "\n",
    "print(\"--- %s seconds ---\" % round(time.time() - start_time, 2))"
   ]
  },
  {
   "cell_type": "code",
   "execution_count": 24,
   "id": "6bca1d07-ab81-467e-9fd5-974072fb2034",
   "metadata": {},
   "outputs": [
    {
     "name": "stdout",
     "output_type": "stream",
     "text": [
      "Random Forest Accuracy Score: 0.47302911592783536, F1-Score: 0.46480475139805505\n"
     ]
    }
   ],
   "source": [
    "# param_grid = {\n",
    "#    'n_estimators': range(10, 50, 10),\n",
    "#    'max_depth': [2,4, 6, 8, 10, 20],\n",
    "#    'min_samples_split': range(2, 8, 2),\n",
    "#    'max_features': [\"auto\", \"sqrt\", \"log2\"],\n",
    "#     'max_samples': [100]\n",
    "# }\n",
    "print(f\"Random Forest Accuracy Score: {rf6_acc}, F1-Score: {rf6_f1}\")"
   ]
  },
  {
   "cell_type": "code",
   "execution_count": 26,
   "id": "ed1801ac-5687-4c77-984b-1025db6ece7b",
   "metadata": {},
   "outputs": [
    {
     "name": "stdout",
     "output_type": "stream",
     "text": [
      "Random Forest Accuracy Score: 0.47302911592783536, F1-Score: 0.46480475139805505\n"
     ]
    }
   ],
   "source": [
    "print(f\"Random Forest Accuracy Score: {rf7_acc}, F1-Score: {rf7_f1}\")"
   ]
  },
  {
   "cell_type": "code",
   "execution_count": null,
   "id": "8f87025d-9001-47cc-a6d1-ed1f59505184",
   "metadata": {},
   "outputs": [],
   "source": []
  }
 ],
 "metadata": {
  "kernelspec": {
   "display_name": "Python 3",
   "language": "python",
   "name": "python3"
  },
  "language_info": {
   "codemirror_mode": {
    "name": "ipython",
    "version": 3
   },
   "file_extension": ".py",
   "mimetype": "text/x-python",
   "name": "python",
   "nbconvert_exporter": "python",
   "pygments_lexer": "ipython3",
   "version": "3.8.8"
  }
 },
 "nbformat": 4,
 "nbformat_minor": 5
}
